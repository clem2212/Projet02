{
 "cells": [
  {
   "cell_type": "code",
   "execution_count": 139,
   "id": "529e4be1",
   "metadata": {},
   "outputs": [
    {
     "name": "stdout",
     "output_type": "stream",
     "text": [
      "The autoreload extension is already loaded. To reload it, use:\n",
      "  %reload_ext autoreload\n"
     ]
    }
   ],
   "source": [
    "import numpy as np\n",
    "import pandas as pd\n",
    "import seaborn as sns\n",
    "from matplotlib import pyplot as plt\n",
    "from implementations import *\n",
    "from sklearn import naive_bayes as nb\n",
    "from sklearn.model_selection import train_test_split\n",
    "from sklearn.ensemble import GradientBoostingClassifier\n",
    "\n",
    "#to access our implemented ML functions\n",
    "%load_ext autoreload\n",
    "%autoreload 2"
   ]
  },
  {
   "cell_type": "code",
   "execution_count": 88,
   "id": "79ed39c4",
   "metadata": {},
   "outputs": [],
   "source": [
    "rng = np.random.RandomState(1)"
   ]
  },
  {
   "cell_type": "code",
   "execution_count": 63,
   "id": "617f00be",
   "metadata": {},
   "outputs": [],
   "source": [
    "data_path = data_file(20.0)"
   ]
  },
  {
   "cell_type": "code",
   "execution_count": 64,
   "id": "557891fa",
   "metadata": {},
   "outputs": [],
   "source": [
    "data = get_cos(clean_df(build_df(data_path)))"
   ]
  },
  {
   "cell_type": "code",
   "execution_count": 65,
   "id": "31cd7c6d",
   "metadata": {},
   "outputs": [],
   "source": [
    "def second_data(df):\n",
    "    df = df.copy(deep=True)\n",
    "    df = df[['KinE(MeV)','name_s']]\n",
    "    df['name_s'] = df['name_s'].apply(type_to_num)\n",
    "    df = df.to_numpy()\n",
    "    return df"
   ]
  },
  {
   "cell_type": "code",
   "execution_count": 104,
   "id": "b8791a4a",
   "metadata": {},
   "outputs": [],
   "source": [
    "X_previous = second_data(data)"
   ]
  },
  {
   "cell_type": "code",
   "execution_count": 105,
   "id": "fa54bc25",
   "metadata": {},
   "outputs": [],
   "source": [
    "Y = X_previous[:,1]"
   ]
  },
  {
   "cell_type": "code",
   "execution_count": 106,
   "id": "55b005fc",
   "metadata": {},
   "outputs": [],
   "source": [
    "X = X_previous[:,0].reshape((X_previous.shape[0],1))"
   ]
  },
  {
   "cell_type": "code",
   "execution_count": 107,
   "id": "61ab3ad7",
   "metadata": {},
   "outputs": [
    {
     "data": {
      "text/plain": [
       "(701043, 1)"
      ]
     },
     "execution_count": 107,
     "metadata": {},
     "output_type": "execute_result"
    }
   ],
   "source": [
    "X.shape"
   ]
  },
  {
   "cell_type": "code",
   "execution_count": 108,
   "id": "c2b1be22",
   "metadata": {},
   "outputs": [
    {
     "data": {
      "text/plain": [
       "(701043,)"
      ]
     },
     "execution_count": 108,
     "metadata": {},
     "output_type": "execute_result"
    }
   ],
   "source": [
    "Y.shape"
   ]
  },
  {
   "cell_type": "markdown",
   "id": "77804ded",
   "metadata": {},
   "source": [
    "### Multinomial "
   ]
  },
  {
   "cell_type": "code",
   "execution_count": 140,
   "id": "ba523771",
   "metadata": {},
   "outputs": [
    {
     "data": {
      "text/plain": [
       "GaussianNB()"
      ]
     },
     "execution_count": 140,
     "metadata": {},
     "output_type": "execute_result"
    }
   ],
   "source": [
    "clf = nb.GaussianNB()\n",
    "clf.fit(X, Y)"
   ]
  },
  {
   "cell_type": "code",
   "execution_count": 141,
   "id": "476afb40",
   "metadata": {},
   "outputs": [
    {
     "name": "stdout",
     "output_type": "stream",
     "text": [
      "[0.]\n"
     ]
    }
   ],
   "source": [
    "test = [[15]]\n",
    "print(clf.predict(test))"
   ]
  },
  {
   "cell_type": "code",
   "execution_count": 142,
   "id": "9c200019",
   "metadata": {},
   "outputs": [
    {
     "name": "stdout",
     "output_type": "stream",
     "text": [
      "0.667135406111627 0.25448270911829285 0.0783818847700798\n"
     ]
    }
   ],
   "source": [
    "P = clf.predict_proba(X)\n",
    "print(P[:,0].mean(), P[:,1].mean(), P[:,2].mean())"
   ]
  },
  {
   "cell_type": "code",
   "execution_count": 143,
   "id": "780649d9",
   "metadata": {},
   "outputs": [],
   "source": [
    "Y_te = clf.predict(X)"
   ]
  },
  {
   "cell_type": "code",
   "execution_count": 144,
   "id": "927bb8fa",
   "metadata": {},
   "outputs": [],
   "source": [
    "data_emission = pd.DataFrame({'KinE(MeV)': X.reshape(X.shape[0],), 'name_s': Y_te})"
   ]
  },
  {
   "cell_type": "code",
   "execution_count": 145,
   "id": "ef34dcd6",
   "metadata": {},
   "outputs": [
    {
     "data": {
      "text/plain": [
       "<AxesSubplot:xlabel='KinE(MeV)', ylabel='Density'>"
      ]
     },
     "execution_count": 145,
     "metadata": {},
     "output_type": "execute_result"
    },
    {
     "data": {
      "image/png": "[encoded data removed]",
      "text/plain": [
       "<Figure size 432x288 with 1 Axes>"
      ]
     },
     "metadata": {
      "needs_background": "light"
     },
     "output_type": "display_data"
    }
   ],
   "source": [
    "sns.kdeplot(data=data, x=\"KinE(MeV)\", hue=\"name_s\", common_norm=False, multiple=\"fill\", alpha=1)"
   ]
  },
  {
   "cell_type": "code",
   "execution_count": 146,
   "id": "b2ec2e44",
   "metadata": {},
   "outputs": [
    {
     "data": {
      "text/plain": [
       "<AxesSubplot:xlabel='KinE(MeV)', ylabel='Density'>"
      ]
     },
     "execution_count": 146,
     "metadata": {},
     "output_type": "execute_result"
    },
    {
     "data": {
      "image/png": "[encoded data removed]",
      "text/plain": [
       "<Figure size 432x288 with 1 Axes>"
      ]
     },
     "metadata": {
      "needs_background": "light"
     },
     "output_type": "display_data"
    }
   ],
   "source": [
    "sns.kdeplot(data=data_emission, x=\"KinE(MeV)\", hue=\"name_s\", common_norm=False, multiple=\"fill\", alpha=1)"
   ]
  },
  {
   "cell_type": "markdown",
   "id": "a97f1aa5",
   "metadata": {},
   "source": [
    "## XGB"
   ]
  },
  {
   "cell_type": "code",
   "execution_count": 148,
   "id": "4db984c4",
   "metadata": {},
   "outputs": [
    {
     "name": "stdout",
     "output_type": "stream",
     "text": [
      "[[138444      0      0]\n",
      " [ 54732      0      0]\n",
      " [ 17137      0      0]]\n"
     ]
    }
   ],
   "source": [
    "#performing train test split\n",
    "X_train, X_test, y_train, y_test = train_test_split(X, Y, test_size=0.3, random_state=5)\n",
    "#Training XGBoost\n",
    "from sklearn.tree import DecisionTreeClassifier\n",
    "from sklearn.metrics import confusion_matrix\n",
    "dtree_model = DecisionTreeClassifier(max_depth = 2).fit(X_train, y_train)\n",
    "dtree_predictions = dtree_model.predict(X_test)\n",
    "  \n",
    "# creating a confusion matrix\n",
    "cm = confusion_matrix(y_test, dtree_predictions)\n",
    "print(cm)"
   ]
  },
  {
   "cell_type": "code",
   "execution_count": 155,
   "id": "8adc216f",
   "metadata": {},
   "outputs": [],
   "source": [
    "y_pred = dtree_model.predict(X_test)"
   ]
  },
  {
   "cell_type": "code",
   "execution_count": 156,
   "id": "9c75763f",
   "metadata": {},
   "outputs": [],
   "source": [
    "data_test = pd.DataFrame({'KinE(MeV)': X_test.reshape(X_test.shape[0],), 'name_s': y_test})"
   ]
  },
  {
   "cell_type": "code",
   "execution_count": 157,
   "id": "cc64aa3f",
   "metadata": {},
   "outputs": [],
   "source": [
    "data_pred = pd.DataFrame({'KinE(MeV)': X_test.reshape(X_test.shape[0],), 'name_s': y_pred})"
   ]
  },
  {
   "cell_type": "code",
   "execution_count": 161,
   "id": "ff747562",
   "metadata": {},
   "outputs": [
    {
     "data": {
      "text/plain": [
       "0"
      ]
     },
     "execution_count": 161,
     "metadata": {},
     "output_type": "execute_result"
    }
   ],
   "source": [
    "(data_pred['name_s']!=0).sum()"
   ]
  },
  {
   "cell_type": "code",
   "execution_count": 153,
   "id": "27a7c7f3",
   "metadata": {},
   "outputs": [
    {
     "data": {
      "text/plain": [
       "<AxesSubplot:xlabel='KinE(MeV)', ylabel='Density'>"
      ]
     },
     "execution_count": 153,
     "metadata": {},
     "output_type": "execute_result"
    },
    {
     "data": {
      "image/png": "[encoded data removed]",
      "text/plain": [
       "<Figure size 432x288 with 1 Axes>"
      ]
     },
     "metadata": {
      "needs_background": "light"
     },
     "output_type": "display_data"
    }
   ],
   "source": [
    "sns.kdeplot(data=data_test, x=\"KinE(MeV)\", hue=\"name_s\", common_norm=False, multiple=\"fill\", alpha=1)"
   ]
  },
  {
   "cell_type": "code",
   "execution_count": 158,
   "id": "e353f306",
   "metadata": {},
   "outputs": [
    {
     "data": {
      "text/plain": [
       "<AxesSubplot:xlabel='KinE(MeV)', ylabel='Density'>"
      ]
     },
     "execution_count": 158,
     "metadata": {},
     "output_type": "execute_result"
    },
    {
     "data": {
      "image/png": "[encoded data removed]",
      "text/plain": [
       "<Figure size 432x288 with 1 Axes>"
      ]
     },
     "metadata": {
      "needs_background": "light"
     },
     "output_type": "display_data"
    }
   ],
   "source": [
    "sns.kdeplot(data=data_pred, x=\"KinE(MeV)\", hue=\"name_s\", common_norm=False, multiple=\"fill\", alpha=1)"
   ]
  },
  {
   "cell_type": "code",
   "execution_count": null,
   "id": "a1686085",
   "metadata": {},
   "outputs": [],
   "source": []
  },
  {
   "cell_type": "code",
   "execution_count": null,
   "id": "e4b52604",
   "metadata": {},
   "outputs": [],
   "source": []
  }
 ],
 "metadata": {
  "kernelspec": {
   "display_name": "Python 3 (ipykernel)",
   "language": "python",
   "name": "python3"
  },
  "language_info": {
   "codemirror_mode": {
    "name": "ipython",
    "version": 3
   },
   "file_extension": ".py",
   "mimetype": "text/x-python",
   "name": "python",
   "nbconvert_exporter": "python",
   "pygments_lexer": "ipython3",
   "version": "3.9.7"
  }
 },
 "nbformat": 4,
 "nbformat_minor": 5
}
