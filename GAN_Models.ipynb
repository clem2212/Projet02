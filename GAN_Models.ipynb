{
 "cells": [
  {
   "cell_type": "markdown",
   "id": "64f7c84e",
   "metadata": {},
   "source": [
    "## In this notebook, we train all GAN models and save them for the final test"
   ]
  },
  {
   "cell_type": "code",
   "execution_count": 2,
   "id": "e0d5be89",
   "metadata": {},
   "outputs": [],
   "source": [
    "import numpy as np\n",
    "import pandas as pd\n",
    "import torch\n",
    "import torch.nn as nn\n",
    "from matplotlib import pyplot as plt\n",
    "from implementations import *\n",
    "from GAN_function import *\n",
    "\n",
    "#to access our implemented ML functions\n",
    "%load_ext autoreload\n",
    "%autoreload 2"
   ]
  },
  {
   "cell_type": "code",
   "execution_count": 3,
   "id": "31a935ea",
   "metadata": {},
   "outputs": [],
   "source": [
    "# THE PARAMETERS\n",
    "\n",
    "data_path = data_file(20.0\n",
    "                     )\n",
    "g_lr = 1e-4  # @param {type:\"number\",  min:0.000001}\n",
    "# Learning rate of the discriminator:\n",
    "d_lr = 5e-4  # @param {type:\"number\",  min:0.000001}\n",
    "# batch size:\n",
    "batch_size = 64  # @param {type:\"integer\",  min:1}\n",
    "# dimension of tha latent vector\n",
    "noise_dim = 100  # @param {type:\"integer\",  min:1}\n",
    "# number of training iterations\n",
    "total_iterations = 5000  # @param {type:\"slider\", min:1, max:50000, step:1}\n",
    "\n",
    "criterion = nn.BCELoss()  # Binary cross entropy"
   ]
  },
  {
   "cell_type": "markdown",
   "id": "969bef42",
   "metadata": {},
   "source": [
    "### We build GAN1, Train it and save it"
   ]
  },
  {
   "cell_type": "code",
   "execution_count": 4,
   "id": "c1267c61",
   "metadata": {},
   "outputs": [
    {
     "name": "stdout",
     "output_type": "stream",
     "text": [
      "GeneratorMLP(\n",
      "  (net): Sequential(\n",
      "    (0): Linear(in_features=100, out_features=128, bias=True)\n",
      "    (1): LeakyReLU(negative_slope=0.01, inplace=True)\n",
      "    (2): Linear(in_features=128, out_features=128, bias=True)\n",
      "    (3): LeakyReLU(negative_slope=0.01, inplace=True)\n",
      "    (4): Linear(in_features=128, out_features=128, bias=True)\n",
      "    (5): LeakyReLU(negative_slope=0.01, inplace=True)\n",
      "    (6): Linear(in_features=128, out_features=2, bias=True)\n",
      "  )\n",
      ")\n",
      "DiscriminatorMLP(\n",
      "  (net): Sequential(\n",
      "    (0): Linear(in_features=2, out_features=128, bias=True)\n",
      "    (1): LeakyReLU(negative_slope=0.01, inplace=True)\n",
      "    (2): Linear(in_features=128, out_features=128, bias=True)\n",
      "    (3): LeakyReLU(negative_slope=0.01, inplace=True)\n",
      "    (4): Linear(in_features=128, out_features=128, bias=True)\n",
      "    (5): LeakyReLU(negative_slope=0.01, inplace=True)\n",
      "    (6): Linear(in_features=128, out_features=1, bias=True)\n",
      "    (7): Sigmoid()\n",
      "  )\n",
      ")\n"
     ]
    }
   ],
   "source": [
    "#Creating the model\n",
    "dim_out=2\n",
    "g_model1 = GeneratorMLP(dim_hidden=128, dim_out=dim_out, noise_dim=noise_dim)\n",
    "d_model1 = DiscriminatorMLP(dim_hidden=128, dim_gen_out=dim_out)\n",
    "print(g_model1)\n",
    "print(d_model1)"
   ]
  },
  {
   "cell_type": "code",
   "execution_count": 37,
   "id": "dabed75c",
   "metadata": {},
   "outputs": [],
   "source": [
    "data1, data2 = GAN1_data(data_path)"
   ]
  },
  {
   "cell_type": "code",
   "execution_count": 38,
   "id": "47716dd1",
   "metadata": {},
   "outputs": [
    {
     "name": "stdout",
     "output_type": "stream",
     "text": [
      "Finished     4900 out of     5000 98.00 %\r"
     ]
    }
   ],
   "source": [
    "g_model1 = train_GAN(g_lr=g_lr, d_lr=d_lr, batch_size=batch_size, noise_dim=noise_dim,\\\n",
    "                          total_iterations=total_iterations, criterion=criterion, data=data1,\\\n",
    "                          g_model=g_model1, d_model=d_model1)"
   ]
  },
  {
   "cell_type": "code",
   "execution_count": 39,
   "id": "33c85471",
   "metadata": {},
   "outputs": [],
   "source": [
    "# Save the entire model as a SavedModel.\n",
    "torch.save(g_model1.state_dict(), 'saved_model/model1')"
   ]
  },
  {
   "cell_type": "code",
   "execution_count": 41,
   "id": "bac098d8",
   "metadata": {},
   "outputs": [
    {
     "data": {
      "text/plain": [
       "GeneratorMLP(\n",
       "  (net): Sequential(\n",
       "    (0): Linear(in_features=100, out_features=128, bias=True)\n",
       "    (1): LeakyReLU(negative_slope=0.01, inplace=True)\n",
       "    (2): Linear(in_features=128, out_features=128, bias=True)\n",
       "    (3): LeakyReLU(negative_slope=0.01, inplace=True)\n",
       "    (4): Linear(in_features=128, out_features=128, bias=True)\n",
       "    (5): LeakyReLU(negative_slope=0.01, inplace=True)\n",
       "    (6): Linear(in_features=128, out_features=2, bias=True)\n",
       "  )\n",
       ")"
      ]
     },
     "execution_count": 41,
     "metadata": {},
     "output_type": "execute_result"
    }
   ],
   "source": [
    "# Check that we can load it\n",
    "gmodel_1 = GeneratorMLP(dim_hidden=128, dim_out=dim_out, noise_dim=noise_dim)\n",
    "gmodel_1.load_state_dict(torch.load('saved_model/model1'))\n",
    "gmodel_1.eval()"
   ]
  },
  {
   "cell_type": "markdown",
   "id": "266c79f9",
   "metadata": {},
   "source": [
    "### GAN2"
   ]
  },
  {
   "cell_type": "code",
   "execution_count": 42,
   "id": "7311ad14",
   "metadata": {},
   "outputs": [
    {
     "name": "stdout",
     "output_type": "stream",
     "text": [
      "GeneratorMLP(\n",
      "  (net): Sequential(\n",
      "    (0): Linear(in_features=100, out_features=128, bias=True)\n",
      "    (1): LeakyReLU(negative_slope=0.01, inplace=True)\n",
      "    (2): Linear(in_features=128, out_features=128, bias=True)\n",
      "    (3): LeakyReLU(negative_slope=0.01, inplace=True)\n",
      "    (4): Linear(in_features=128, out_features=128, bias=True)\n",
      "    (5): LeakyReLU(negative_slope=0.01, inplace=True)\n",
      "    (6): Linear(in_features=128, out_features=2, bias=True)\n",
      "  )\n",
      ")\n",
      "DiscriminatorMLP(\n",
      "  (net): Sequential(\n",
      "    (0): Linear(in_features=2, out_features=128, bias=True)\n",
      "    (1): LeakyReLU(negative_slope=0.01, inplace=True)\n",
      "    (2): Linear(in_features=128, out_features=128, bias=True)\n",
      "    (3): LeakyReLU(negative_slope=0.01, inplace=True)\n",
      "    (4): Linear(in_features=128, out_features=128, bias=True)\n",
      "    (5): LeakyReLU(negative_slope=0.01, inplace=True)\n",
      "    (6): Linear(in_features=128, out_features=1, bias=True)\n",
      "    (7): Sigmoid()\n",
      "  )\n",
      ")\n"
     ]
    }
   ],
   "source": [
    "dim_out=2\n",
    "g_model2 = GeneratorMLP(dim_hidden=128, dim_out=dim_out, noise_dim=noise_dim)\n",
    "d_model2 = DiscriminatorMLP(dim_hidden=128, dim_gen_out=dim_out)\n",
    "print(g_model2)\n",
    "print(d_model2)"
   ]
  },
  {
   "cell_type": "code",
   "execution_count": 43,
   "id": "e7cff81f",
   "metadata": {},
   "outputs": [
    {
     "name": "stdout",
     "output_type": "stream",
     "text": [
      "Finished     4900 out of     5000 98.00 %\r"
     ]
    }
   ],
   "source": [
    "g_model2 = train_GAN(g_lr=g_lr, d_lr=d_lr, batch_size=batch_size, noise_dim=noise_dim,\\\n",
    "                          total_iterations=total_iterations, criterion=criterion, data=data2,\\\n",
    "                          g_model=g_model2, d_model=d_model2)"
   ]
  },
  {
   "cell_type": "code",
   "execution_count": 44,
   "id": "84e87ab0",
   "metadata": {},
   "outputs": [],
   "source": [
    "# Save the entire model as a SavedModel.\n",
    "torch.save(g_model2.state_dict(), 'saved_model/model2')"
   ]
  },
  {
   "cell_type": "code",
   "execution_count": 45,
   "id": "805ffad4",
   "metadata": {},
   "outputs": [
    {
     "data": {
      "text/plain": [
       "GeneratorMLP(\n",
       "  (net): Sequential(\n",
       "    (0): Linear(in_features=100, out_features=128, bias=True)\n",
       "    (1): LeakyReLU(negative_slope=0.01, inplace=True)\n",
       "    (2): Linear(in_features=128, out_features=128, bias=True)\n",
       "    (3): LeakyReLU(negative_slope=0.01, inplace=True)\n",
       "    (4): Linear(in_features=128, out_features=128, bias=True)\n",
       "    (5): LeakyReLU(negative_slope=0.01, inplace=True)\n",
       "    (6): Linear(in_features=128, out_features=2, bias=True)\n",
       "  )\n",
       ")"
      ]
     },
     "execution_count": 45,
     "metadata": {},
     "output_type": "execute_result"
    }
   ],
   "source": [
    "gmodel_2 = GeneratorMLP(dim_hidden=128, dim_out=dim_out, noise_dim=noise_dim)\n",
    "gmodel_2.load_state_dict(torch.load('saved_model/model2'))\n",
    "gmodel_2.eval()"
   ]
  },
  {
   "cell_type": "markdown",
   "id": "15cfc55c",
   "metadata": {},
   "source": [
    "### GAN3"
   ]
  },
  {
   "cell_type": "code",
   "execution_count": 46,
   "id": "eb0564ad",
   "metadata": {},
   "outputs": [
    {
     "name": "stdout",
     "output_type": "stream",
     "text": [
      "GeneratorMLP(\n",
      "  (net): Sequential(\n",
      "    (0): Linear(in_features=100, out_features=128, bias=True)\n",
      "    (1): LeakyReLU(negative_slope=0.01, inplace=True)\n",
      "    (2): Linear(in_features=128, out_features=128, bias=True)\n",
      "    (3): LeakyReLU(negative_slope=0.01, inplace=True)\n",
      "    (4): Linear(in_features=128, out_features=128, bias=True)\n",
      "    (5): LeakyReLU(negative_slope=0.01, inplace=True)\n",
      "    (6): Linear(in_features=128, out_features=5, bias=True)\n",
      "  )\n",
      ")\n",
      "DiscriminatorMLP(\n",
      "  (net): Sequential(\n",
      "    (0): Linear(in_features=5, out_features=128, bias=True)\n",
      "    (1): LeakyReLU(negative_slope=0.01, inplace=True)\n",
      "    (2): Linear(in_features=128, out_features=128, bias=True)\n",
      "    (3): LeakyReLU(negative_slope=0.01, inplace=True)\n",
      "    (4): Linear(in_features=128, out_features=128, bias=True)\n",
      "    (5): LeakyReLU(negative_slope=0.01, inplace=True)\n",
      "    (6): Linear(in_features=128, out_features=1, bias=True)\n",
      "    (7): Sigmoid()\n",
      "  )\n",
      ")\n"
     ]
    }
   ],
   "source": [
    "dim_out=5\n",
    "g_model3 = GeneratorMLP(dim_hidden=128, dim_out=dim_out, noise_dim=noise_dim)\n",
    "d_model3 = DiscriminatorMLP(dim_hidden=128, dim_gen_out=dim_out)\n",
    "print(g_model3)\n",
    "print(d_model3)"
   ]
  },
  {
   "cell_type": "code",
   "execution_count": 47,
   "id": "8a3b5787",
   "metadata": {},
   "outputs": [],
   "source": [
    "data3, data4 = GAN2_data(data_path)"
   ]
  },
  {
   "cell_type": "code",
   "execution_count": 48,
   "id": "f9b2dc9a",
   "metadata": {},
   "outputs": [
    {
     "name": "stdout",
     "output_type": "stream",
     "text": [
      "Finished     4900 out of     5000 98.00 %\r"
     ]
    }
   ],
   "source": [
    "g_model3 = train_GAN(g_lr=g_lr, d_lr=d_lr, batch_size=batch_size, noise_dim=noise_dim,\\\n",
    "                          total_iterations=total_iterations, criterion=criterion, data=data3,\\\n",
    "                          g_model=g_model3, d_model=d_model3)"
   ]
  },
  {
   "cell_type": "code",
   "execution_count": 49,
   "id": "a511f204",
   "metadata": {},
   "outputs": [],
   "source": [
    "# Save the entire model as a SavedModel.\n",
    "torch.save(g_model3.state_dict(), 'saved_model/model3')"
   ]
  },
  {
   "cell_type": "code",
   "execution_count": 50,
   "id": "52e679dd",
   "metadata": {},
   "outputs": [
    {
     "data": {
      "text/plain": [
       "GeneratorMLP(\n",
       "  (net): Sequential(\n",
       "    (0): Linear(in_features=100, out_features=128, bias=True)\n",
       "    (1): LeakyReLU(negative_slope=0.01, inplace=True)\n",
       "    (2): Linear(in_features=128, out_features=128, bias=True)\n",
       "    (3): LeakyReLU(negative_slope=0.01, inplace=True)\n",
       "    (4): Linear(in_features=128, out_features=128, bias=True)\n",
       "    (5): LeakyReLU(negative_slope=0.01, inplace=True)\n",
       "    (6): Linear(in_features=128, out_features=5, bias=True)\n",
       "  )\n",
       ")"
      ]
     },
     "execution_count": 50,
     "metadata": {},
     "output_type": "execute_result"
    }
   ],
   "source": [
    "gmodel_3 = GeneratorMLP(dim_hidden=128, dim_out=dim_out, noise_dim=noise_dim)\n",
    "gmodel_3.load_state_dict(torch.load('saved_model/model3'))\n",
    "gmodel_3.eval()"
   ]
  },
  {
   "cell_type": "markdown",
   "id": "e866206b",
   "metadata": {},
   "source": [
    "### GAN4"
   ]
  },
  {
   "cell_type": "code",
   "execution_count": 51,
   "id": "df1666c3",
   "metadata": {},
   "outputs": [
    {
     "name": "stdout",
     "output_type": "stream",
     "text": [
      "GeneratorMLP(\n",
      "  (net): Sequential(\n",
      "    (0): Linear(in_features=100, out_features=128, bias=True)\n",
      "    (1): LeakyReLU(negative_slope=0.01, inplace=True)\n",
      "    (2): Linear(in_features=128, out_features=128, bias=True)\n",
      "    (3): LeakyReLU(negative_slope=0.01, inplace=True)\n",
      "    (4): Linear(in_features=128, out_features=128, bias=True)\n",
      "    (5): LeakyReLU(negative_slope=0.01, inplace=True)\n",
      "    (6): Linear(in_features=128, out_features=5, bias=True)\n",
      "  )\n",
      ")\n",
      "DiscriminatorMLP(\n",
      "  (net): Sequential(\n",
      "    (0): Linear(in_features=5, out_features=128, bias=True)\n",
      "    (1): LeakyReLU(negative_slope=0.01, inplace=True)\n",
      "    (2): Linear(in_features=128, out_features=128, bias=True)\n",
      "    (3): LeakyReLU(negative_slope=0.01, inplace=True)\n",
      "    (4): Linear(in_features=128, out_features=128, bias=True)\n",
      "    (5): LeakyReLU(negative_slope=0.01, inplace=True)\n",
      "    (6): Linear(in_features=128, out_features=1, bias=True)\n",
      "    (7): Sigmoid()\n",
      "  )\n",
      ")\n"
     ]
    }
   ],
   "source": [
    "dim_out=5\n",
    "g_model4 = GeneratorMLP(dim_hidden=128, dim_out=dim_out, noise_dim=noise_dim)\n",
    "d_model4 = DiscriminatorMLP(dim_hidden=128, dim_gen_out=dim_out)\n",
    "print(g_model4)\n",
    "print(d_model4)"
   ]
  },
  {
   "cell_type": "code",
   "execution_count": 52,
   "id": "599f044a",
   "metadata": {},
   "outputs": [
    {
     "name": "stdout",
     "output_type": "stream",
     "text": [
      "Finished     4900 out of     5000 98.00 %\r"
     ]
    }
   ],
   "source": [
    "g_model4 = train_GAN(g_lr=g_lr, d_lr=d_lr, batch_size=batch_size, noise_dim=noise_dim,\\\n",
    "                          total_iterations=total_iterations, criterion=criterion, data=data4,\\\n",
    "                          g_model=g_model4, d_model=d_model4)"
   ]
  },
  {
   "cell_type": "code",
   "execution_count": 53,
   "id": "b5f69592",
   "metadata": {},
   "outputs": [],
   "source": [
    "# Save the entire model as a SavedModel.\n",
    "torch.save(g_model4.state_dict(), 'saved_model/model4')"
   ]
  },
  {
   "cell_type": "code",
   "execution_count": 54,
   "id": "0807092e",
   "metadata": {},
   "outputs": [
    {
     "data": {
      "text/plain": [
       "GeneratorMLP(\n",
       "  (net): Sequential(\n",
       "    (0): Linear(in_features=100, out_features=128, bias=True)\n",
       "    (1): LeakyReLU(negative_slope=0.01, inplace=True)\n",
       "    (2): Linear(in_features=128, out_features=128, bias=True)\n",
       "    (3): LeakyReLU(negative_slope=0.01, inplace=True)\n",
       "    (4): Linear(in_features=128, out_features=128, bias=True)\n",
       "    (5): LeakyReLU(negative_slope=0.01, inplace=True)\n",
       "    (6): Linear(in_features=128, out_features=5, bias=True)\n",
       "  )\n",
       ")"
      ]
     },
     "execution_count": 54,
     "metadata": {},
     "output_type": "execute_result"
    }
   ],
   "source": [
    "gmodel_4 = GeneratorMLP(dim_hidden=128, dim_out=dim_out, noise_dim=noise_dim)\n",
    "gmodel_4.load_state_dict(torch.load('saved_model/model4'))\n",
    "gmodel_4.eval()"
   ]
  },
  {
   "cell_type": "markdown",
   "id": "e786128a",
   "metadata": {},
   "source": [
    "### GAN5"
   ]
  },
  {
   "cell_type": "code",
   "execution_count": 55,
   "id": "e783b0dd",
   "metadata": {},
   "outputs": [
    {
     "name": "stdout",
     "output_type": "stream",
     "text": [
      "GeneratorMLP(\n",
      "  (net): Sequential(\n",
      "    (0): Linear(in_features=100, out_features=128, bias=True)\n",
      "    (1): LeakyReLU(negative_slope=0.01, inplace=True)\n",
      "    (2): Linear(in_features=128, out_features=128, bias=True)\n",
      "    (3): LeakyReLU(negative_slope=0.01, inplace=True)\n",
      "    (4): Linear(in_features=128, out_features=128, bias=True)\n",
      "    (5): LeakyReLU(negative_slope=0.01, inplace=True)\n",
      "    (6): Linear(in_features=128, out_features=5, bias=True)\n",
      "  )\n",
      ")\n",
      "DiscriminatorMLP(\n",
      "  (net): Sequential(\n",
      "    (0): Linear(in_features=5, out_features=128, bias=True)\n",
      "    (1): LeakyReLU(negative_slope=0.01, inplace=True)\n",
      "    (2): Linear(in_features=128, out_features=128, bias=True)\n",
      "    (3): LeakyReLU(negative_slope=0.01, inplace=True)\n",
      "    (4): Linear(in_features=128, out_features=128, bias=True)\n",
      "    (5): LeakyReLU(negative_slope=0.01, inplace=True)\n",
      "    (6): Linear(in_features=128, out_features=1, bias=True)\n",
      "    (7): Sigmoid()\n",
      "  )\n",
      ")\n"
     ]
    }
   ],
   "source": [
    "dim_out=5\n",
    "g_model5 = GeneratorMLP(dim_hidden=128, dim_out=dim_out, noise_dim=noise_dim)\n",
    "d_model5 = DiscriminatorMLP(dim_hidden=128, dim_gen_out=dim_out)\n",
    "print(g_model5)\n",
    "print(d_model5)"
   ]
  },
  {
   "cell_type": "code",
   "execution_count": 56,
   "id": "807b3607",
   "metadata": {},
   "outputs": [],
   "source": [
    "data5, data6 = GAN3_data(data_path)"
   ]
  },
  {
   "cell_type": "code",
   "execution_count": 57,
   "id": "868bc603",
   "metadata": {},
   "outputs": [
    {
     "name": "stdout",
     "output_type": "stream",
     "text": [
      "Finished     4900 out of     5000 98.00 %\r"
     ]
    }
   ],
   "source": [
    "g_model5 = train_GAN(g_lr=g_lr, d_lr=d_lr, batch_size=batch_size, noise_dim=noise_dim,\\\n",
    "                          total_iterations=total_iterations, criterion=criterion, data=data5,\\\n",
    "                          g_model=g_model5, d_model=d_model5)"
   ]
  },
  {
   "cell_type": "code",
   "execution_count": 58,
   "id": "8e882cf9",
   "metadata": {},
   "outputs": [],
   "source": [
    "# Save the entire model as a SavedModel.\n",
    "torch.save(g_model5.state_dict(), 'saved_model/model5')"
   ]
  },
  {
   "cell_type": "code",
   "execution_count": 59,
   "id": "4e56db2c",
   "metadata": {},
   "outputs": [
    {
     "data": {
      "text/plain": [
       "GeneratorMLP(\n",
       "  (net): Sequential(\n",
       "    (0): Linear(in_features=100, out_features=128, bias=True)\n",
       "    (1): LeakyReLU(negative_slope=0.01, inplace=True)\n",
       "    (2): Linear(in_features=128, out_features=128, bias=True)\n",
       "    (3): LeakyReLU(negative_slope=0.01, inplace=True)\n",
       "    (4): Linear(in_features=128, out_features=128, bias=True)\n",
       "    (5): LeakyReLU(negative_slope=0.01, inplace=True)\n",
       "    (6): Linear(in_features=128, out_features=5, bias=True)\n",
       "  )\n",
       ")"
      ]
     },
     "execution_count": 59,
     "metadata": {},
     "output_type": "execute_result"
    }
   ],
   "source": [
    "gmodel_5 = GeneratorMLP(dim_hidden=128, dim_out=dim_out, noise_dim=noise_dim)\n",
    "gmodel_5.load_state_dict(torch.load('saved_model/model5'))\n",
    "gmodel_5.eval()"
   ]
  },
  {
   "cell_type": "markdown",
   "id": "603d9808",
   "metadata": {},
   "source": [
    "### GAN6"
   ]
  },
  {
   "cell_type": "code",
   "execution_count": 60,
   "id": "a971f5bf",
   "metadata": {},
   "outputs": [
    {
     "name": "stdout",
     "output_type": "stream",
     "text": [
      "GeneratorMLP(\n",
      "  (net): Sequential(\n",
      "    (0): Linear(in_features=100, out_features=128, bias=True)\n",
      "    (1): LeakyReLU(negative_slope=0.01, inplace=True)\n",
      "    (2): Linear(in_features=128, out_features=128, bias=True)\n",
      "    (3): LeakyReLU(negative_slope=0.01, inplace=True)\n",
      "    (4): Linear(in_features=128, out_features=128, bias=True)\n",
      "    (5): LeakyReLU(negative_slope=0.01, inplace=True)\n",
      "    (6): Linear(in_features=128, out_features=5, bias=True)\n",
      "  )\n",
      ")\n",
      "DiscriminatorMLP(\n",
      "  (net): Sequential(\n",
      "    (0): Linear(in_features=5, out_features=128, bias=True)\n",
      "    (1): LeakyReLU(negative_slope=0.01, inplace=True)\n",
      "    (2): Linear(in_features=128, out_features=128, bias=True)\n",
      "    (3): LeakyReLU(negative_slope=0.01, inplace=True)\n",
      "    (4): Linear(in_features=128, out_features=128, bias=True)\n",
      "    (5): LeakyReLU(negative_slope=0.01, inplace=True)\n",
      "    (6): Linear(in_features=128, out_features=1, bias=True)\n",
      "    (7): Sigmoid()\n",
      "  )\n",
      ")\n"
     ]
    }
   ],
   "source": [
    "dim_out=5\n",
    "g_model6 = GeneratorMLP(dim_hidden=128, dim_out=dim_out, noise_dim=noise_dim)\n",
    "d_model6 = DiscriminatorMLP(dim_hidden=128, dim_gen_out=dim_out)\n",
    "print(g_model6)\n",
    "print(d_model6)"
   ]
  },
  {
   "cell_type": "code",
   "execution_count": 61,
   "id": "fb6532c0",
   "metadata": {},
   "outputs": [
    {
     "name": "stdout",
     "output_type": "stream",
     "text": [
      "Finished     4900 out of     5000 98.00 %\r"
     ]
    }
   ],
   "source": [
    "g_model6 = train_GAN(g_lr=g_lr, d_lr=d_lr, batch_size=batch_size, noise_dim=noise_dim,\\\n",
    "                          total_iterations=total_iterations, criterion=criterion, data=data6,\\\n",
    "                          g_model=g_model6, d_model=d_model6)"
   ]
  },
  {
   "cell_type": "code",
   "execution_count": 62,
   "id": "032cc56c",
   "metadata": {},
   "outputs": [],
   "source": [
    "# Save the entire model as a SavedModel.\n",
    "torch.save(g_model6.state_dict(), 'saved_model/model6')"
   ]
  },
  {
   "cell_type": "code",
   "execution_count": 63,
   "id": "2ba89aa3",
   "metadata": {},
   "outputs": [
    {
     "data": {
      "text/plain": [
       "GeneratorMLP(\n",
       "  (net): Sequential(\n",
       "    (0): Linear(in_features=100, out_features=128, bias=True)\n",
       "    (1): LeakyReLU(negative_slope=0.01, inplace=True)\n",
       "    (2): Linear(in_features=128, out_features=128, bias=True)\n",
       "    (3): LeakyReLU(negative_slope=0.01, inplace=True)\n",
       "    (4): Linear(in_features=128, out_features=128, bias=True)\n",
       "    (5): LeakyReLU(negative_slope=0.01, inplace=True)\n",
       "    (6): Linear(in_features=128, out_features=5, bias=True)\n",
       "  )\n",
       ")"
      ]
     },
     "execution_count": 63,
     "metadata": {},
     "output_type": "execute_result"
    }
   ],
   "source": [
    "gmodel_6 = GeneratorMLP(dim_hidden=128, dim_out=dim_out, noise_dim=noise_dim)\n",
    "gmodel_6.load_state_dict(torch.load('saved_model/model6'))\n",
    "gmodel_6.eval()"
   ]
  },
  {
   "cell_type": "markdown",
   "id": "7c55dfa9",
   "metadata": {},
   "source": [
    "### Now we check that we can load a model using `get_model` method"
   ]
  },
  {
   "cell_type": "code",
   "execution_count": 5,
   "id": "2b1214e9",
   "metadata": {},
   "outputs": [],
   "source": [
    "modelll = get_model(KinE=10.0,name_s=2)"
   ]
  },
  {
   "cell_type": "code",
   "execution_count": 6,
   "id": "13e40cd2",
   "metadata": {},
   "outputs": [
    {
     "name": "stdout",
     "output_type": "stream",
     "text": [
      "[[0.92058897 0.11784355 0.8805054  0.9671407  9.920081  ]]\n",
      "[[ 0.17525432 -0.188368    1.0843531   0.23704007  7.438227  ]]\n",
      "[[ 0.9992256   0.26352227  0.96129     1.0496     12.289339  ]]\n",
      "[[ 0.89748514  0.26959047  0.9676253   0.95922965 19.674002  ]]\n",
      "[[0.7738055  0.1255564  0.73168653 0.819213   7.8127155 ]]\n"
     ]
    }
   ],
   "source": [
    "# Generate multiple events from the models\n",
    "for i in range(5):\n",
    "    print(Get_GAN_event(modelll))"
   ]
  },
  {
   "cell_type": "markdown",
   "id": "73eaa8af",
   "metadata": {},
   "source": [
    "It works well"
   ]
  }
 ],
 "metadata": {
  "kernelspec": {
   "display_name": "Python 3 (ipykernel)",
   "language": "python",
   "name": "python3"
  },
  "language_info": {
   "codemirror_mode": {
    "name": "ipython",
    "version": 3
   },
   "file_extension": ".py",
   "mimetype": "text/x-python",
   "name": "python",
   "nbconvert_exporter": "python",
   "pygments_lexer": "ipython3",
   "version": "3.9.15"
  }
 },
 "nbformat": 4,
 "nbformat_minor": 5
}
