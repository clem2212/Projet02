{
 "cells": [
  {
   "cell_type": "code",
   "execution_count": 2,
   "id": "e0d5be89",
   "metadata": {},
   "outputs": [],
   "source": [
    "import numpy as np\n",
    "import pandas as pd\n",
    "import torch\n",
    "import torch.nn as nn\n",
    "from matplotlib import pyplot as plt\n",
    "from implementations import *\n",
    "from GAN_function import *"
   ]
  },
  {
   "cell_type": "markdown",
   "id": "57466229",
   "metadata": {},
   "source": [
    "## Train all models"
   ]
  },
  {
   "cell_type": "code",
   "execution_count": 5,
   "id": "31a935ea",
   "metadata": {},
   "outputs": [],
   "source": [
    "# THE PARAMETERS\n",
    "\n",
    "data_path = data_file(20.0\n",
    "                     )\n",
    "g_lr = 1e-4  # @param {type:\"number\",  min:0.000001}\n",
    "# Learning rate of the discriminator:\n",
    "d_lr = 5e-4  # @param {type:\"number\",  min:0.000001}\n",
    "# batch size:\n",
    "batch_size = 64  # @param {type:\"integer\",  min:1}\n",
    "# dimension of tha latent vector\n",
    "noise_dim = 100  # @param {type:\"integer\",  min:1}\n",
    "# number of training iterations\n",
    "total_iterations = 5000  # @param {type:\"slider\", min:1, max:50000, step:1}\n",
    "\n",
    "criterion = nn.BCELoss()  # Binary cross entropy"
   ]
  },
  {
   "cell_type": "markdown",
   "id": "969bef42",
   "metadata": {},
   "source": [
    "### GAN1"
   ]
  },
  {
   "cell_type": "code",
   "execution_count": 36,
   "id": "c1267c61",
   "metadata": {},
   "outputs": [
    {
     "name": "stdout",
     "output_type": "stream",
     "text": [
      "GeneratorMLP(\n",
      "  (net): Sequential(\n",
      "    (0): Linear(in_features=100, out_features=128, bias=True)\n",
      "    (1): LeakyReLU(negative_slope=0.01, inplace=True)\n",
      "    (2): Linear(in_features=128, out_features=128, bias=True)\n",
      "    (3): LeakyReLU(negative_slope=0.01, inplace=True)\n",
      "    (4): Linear(in_features=128, out_features=128, bias=True)\n",
      "    (5): LeakyReLU(negative_slope=0.01, inplace=True)\n",
      "    (6): Linear(in_features=128, out_features=2, bias=True)\n",
      "  )\n",
      ")\n",
      "DiscriminatorMLP(\n",
      "  (net): Sequential(\n",
      "    (0): Linear(in_features=2, out_features=128, bias=True)\n",
      "    (1): LeakyReLU(negative_slope=0.01, inplace=True)\n",
      "    (2): Linear(in_features=128, out_features=128, bias=True)\n",
      "    (3): LeakyReLU(negative_slope=0.01, inplace=True)\n",
      "    (4): Linear(in_features=128, out_features=128, bias=True)\n",
      "    (5): LeakyReLU(negative_slope=0.01, inplace=True)\n",
      "    (6): Linear(in_features=128, out_features=1, bias=True)\n",
      "    (7): Sigmoid()\n",
      "  )\n",
      ")\n"
     ]
    }
   ],
   "source": [
    "dim_out=2\n",
    "g_model1 = GeneratorMLP(dim_hidden=128, dim_out=dim_out, noise_dim=noise_dim)\n",
    "d_model1 = DiscriminatorMLP(dim_hidden=128, dim_gen_out=dim_out)\n",
    "print(g_model1)\n",
    "print(d_model1)"
   ]
  },
  {
   "cell_type": "code",
   "execution_count": 37,
   "id": "dabed75c",
   "metadata": {},
   "outputs": [],
   "source": [
    "data1, data2 = GAN1_data(data_path)"
   ]
  },
  {
   "cell_type": "code",
   "execution_count": 38,
   "id": "47716dd1",
   "metadata": {},
   "outputs": [
    {
     "name": "stdout",
     "output_type": "stream",
     "text": [
      "Finished     4900 out of     5000 98.00 %\r"
     ]
    }
   ],
   "source": [
    "g_model1 = train_GAN(g_lr=g_lr, d_lr=d_lr, batch_size=batch_size, noise_dim=noise_dim,\\\n",
    "                          total_iterations=total_iterations, criterion=criterion, data=data1,\\\n",
    "                          g_model=g_model1, d_model=d_model1)"
   ]
  },
  {
   "cell_type": "code",
   "execution_count": 39,
   "id": "33c85471",
   "metadata": {},
   "outputs": [],
   "source": [
    "# Save the entire model as a SavedModel.\n",
    "torch.save(g_model1.state_dict(), 'saved_model/model1')"
   ]
  },
  {
   "cell_type": "code",
   "execution_count": 41,
   "id": "bac098d8",
   "metadata": {},
   "outputs": [
    {
     "data": {
      "text/plain": [
       "GeneratorMLP(\n",
       "  (net): Sequential(\n",
       "    (0): Linear(in_features=100, out_features=128, bias=True)\n",
       "    (1): LeakyReLU(negative_slope=0.01, inplace=True)\n",
       "    (2): Linear(in_features=128, out_features=128, bias=True)\n",
       "    (3): LeakyReLU(negative_slope=0.01, inplace=True)\n",
       "    (4): Linear(in_features=128, out_features=128, bias=True)\n",
       "    (5): LeakyReLU(negative_slope=0.01, inplace=True)\n",
       "    (6): Linear(in_features=128, out_features=2, bias=True)\n",
       "  )\n",
       ")"
      ]
     },
     "execution_count": 41,
     "metadata": {},
     "output_type": "execute_result"
    }
   ],
   "source": [
    "gmodel_1 = GeneratorMLP(dim_hidden=128, dim_out=dim_out, noise_dim=noise_dim)\n",
    "gmodel_1.load_state_dict(torch.load('saved_model/model1'))\n",
    "gmodel_1.eval()"
   ]
  },
  {
   "cell_type": "markdown",
   "id": "266c79f9",
   "metadata": {},
   "source": [
    "### GAN2"
   ]
  },
  {
   "cell_type": "code",
   "execution_count": 42,
   "id": "7311ad14",
   "metadata": {},
   "outputs": [
    {
     "name": "stdout",
     "output_type": "stream",
     "text": [
      "GeneratorMLP(\n",
      "  (net): Sequential(\n",
      "    (0): Linear(in_features=100, out_features=128, bias=True)\n",
      "    (1): LeakyReLU(negative_slope=0.01, inplace=True)\n",
      "    (2): Linear(in_features=128, out_features=128, bias=True)\n",
      "    (3): LeakyReLU(negative_slope=0.01, inplace=True)\n",
      "    (4): Linear(in_features=128, out_features=128, bias=True)\n",
      "    (5): LeakyReLU(negative_slope=0.01, inplace=True)\n",
      "    (6): Linear(in_features=128, out_features=2, bias=True)\n",
      "  )\n",
      ")\n",
      "DiscriminatorMLP(\n",
      "  (net): Sequential(\n",
      "    (0): Linear(in_features=2, out_features=128, bias=True)\n",
      "    (1): LeakyReLU(negative_slope=0.01, inplace=True)\n",
      "    (2): Linear(in_features=128, out_features=128, bias=True)\n",
      "    (3): LeakyReLU(negative_slope=0.01, inplace=True)\n",
      "    (4): Linear(in_features=128, out_features=128, bias=True)\n",
      "    (5): LeakyReLU(negative_slope=0.01, inplace=True)\n",
      "    (6): Linear(in_features=128, out_features=1, bias=True)\n",
      "    (7): Sigmoid()\n",
      "  )\n",
      ")\n"
     ]
    }
   ],
   "source": [
    "dim_out=2\n",
    "g_model2 = GeneratorMLP(dim_hidden=128, dim_out=dim_out, noise_dim=noise_dim)\n",
    "d_model2 = DiscriminatorMLP(dim_hidden=128, dim_gen_out=dim_out)\n",
    "print(g_model2)\n",
    "print(d_model2)"
   ]
  },
  {
   "cell_type": "code",
   "execution_count": 43,
   "id": "e7cff81f",
   "metadata": {},
   "outputs": [
    {
     "name": "stdout",
     "output_type": "stream",
     "text": [
      "Finished     4900 out of     5000 98.00 %\r"
     ]
    }
   ],
   "source": [
    "g_model2 = train_GAN(g_lr=g_lr, d_lr=d_lr, batch_size=batch_size, noise_dim=noise_dim,\\\n",
    "                          total_iterations=total_iterations, criterion=criterion, data=data2,\\\n",
    "                          g_model=g_model2, d_model=d_model2)"
   ]
  },
  {
   "cell_type": "code",
   "execution_count": 44,
   "id": "84e87ab0",
   "metadata": {},
   "outputs": [],
   "source": [
    "# Save the entire model as a SavedModel.\n",
    "torch.save(g_model2.state_dict(), 'saved_model/model2')"
   ]
  },
  {
   "cell_type": "code",
   "execution_count": 45,
   "id": "805ffad4",
   "metadata": {},
   "outputs": [
    {
     "data": {
      "text/plain": [
       "GeneratorMLP(\n",
       "  (net): Sequential(\n",
       "    (0): Linear(in_features=100, out_features=128, bias=True)\n",
       "    (1): LeakyReLU(negative_slope=0.01, inplace=True)\n",
       "    (2): Linear(in_features=128, out_features=128, bias=True)\n",
       "    (3): LeakyReLU(negative_slope=0.01, inplace=True)\n",
       "    (4): Linear(in_features=128, out_features=128, bias=True)\n",
       "    (5): LeakyReLU(negative_slope=0.01, inplace=True)\n",
       "    (6): Linear(in_features=128, out_features=2, bias=True)\n",
       "  )\n",
       ")"
      ]
     },
     "execution_count": 45,
     "metadata": {},
     "output_type": "execute_result"
    }
   ],
   "source": [
    "gmodel_2 = GeneratorMLP(dim_hidden=128, dim_out=dim_out, noise_dim=noise_dim)\n",
    "gmodel_2.load_state_dict(torch.load('saved_model/model2'))\n",
    "gmodel_2.eval()"
   ]
  },
  {
   "cell_type": "markdown",
   "id": "15cfc55c",
   "metadata": {},
   "source": [
    "### GAN3"
   ]
  },
  {
   "cell_type": "code",
   "execution_count": 46,
   "id": "eb0564ad",
   "metadata": {},
   "outputs": [
    {
     "name": "stdout",
     "output_type": "stream",
     "text": [
      "GeneratorMLP(\n",
      "  (net): Sequential(\n",
      "    (0): Linear(in_features=100, out_features=128, bias=True)\n",
      "    (1): LeakyReLU(negative_slope=0.01, inplace=True)\n",
      "    (2): Linear(in_features=128, out_features=128, bias=True)\n",
      "    (3): LeakyReLU(negative_slope=0.01, inplace=True)\n",
      "    (4): Linear(in_features=128, out_features=128, bias=True)\n",
      "    (5): LeakyReLU(negative_slope=0.01, inplace=True)\n",
      "    (6): Linear(in_features=128, out_features=5, bias=True)\n",
      "  )\n",
      ")\n",
      "DiscriminatorMLP(\n",
      "  (net): Sequential(\n",
      "    (0): Linear(in_features=5, out_features=128, bias=True)\n",
      "    (1): LeakyReLU(negative_slope=0.01, inplace=True)\n",
      "    (2): Linear(in_features=128, out_features=128, bias=True)\n",
      "    (3): LeakyReLU(negative_slope=0.01, inplace=True)\n",
      "    (4): Linear(in_features=128, out_features=128, bias=True)\n",
      "    (5): LeakyReLU(negative_slope=0.01, inplace=True)\n",
      "    (6): Linear(in_features=128, out_features=1, bias=True)\n",
      "    (7): Sigmoid()\n",
      "  )\n",
      ")\n"
     ]
    }
   ],
   "source": [
    "dim_out=5\n",
    "g_model3 = GeneratorMLP(dim_hidden=128, dim_out=dim_out, noise_dim=noise_dim)\n",
    "d_model3 = DiscriminatorMLP(dim_hidden=128, dim_gen_out=dim_out)\n",
    "print(g_model3)\n",
    "print(d_model3)"
   ]
  },
  {
   "cell_type": "code",
   "execution_count": 47,
   "id": "8a3b5787",
   "metadata": {},
   "outputs": [],
   "source": [
    "data3, data4 = GAN2_data(data_path)"
   ]
  },
  {
   "cell_type": "code",
   "execution_count": 48,
   "id": "f9b2dc9a",
   "metadata": {},
   "outputs": [
    {
     "name": "stdout",
     "output_type": "stream",
     "text": [
      "Finished     4900 out of     5000 98.00 %\r"
     ]
    }
   ],
   "source": [
    "g_model3 = train_GAN(g_lr=g_lr, d_lr=d_lr, batch_size=batch_size, noise_dim=noise_dim,\\\n",
    "                          total_iterations=total_iterations, criterion=criterion, data=data3,\\\n",
    "                          g_model=g_model3, d_model=d_model3)"
   ]
  },
  {
   "cell_type": "code",
   "execution_count": 49,
   "id": "a511f204",
   "metadata": {},
   "outputs": [],
   "source": [
    "# Save the entire model as a SavedModel.\n",
    "torch.save(g_model3.state_dict(), 'saved_model/model3')"
   ]
  },
  {
   "cell_type": "code",
   "execution_count": 50,
   "id": "52e679dd",
   "metadata": {},
   "outputs": [
    {
     "data": {
      "text/plain": [
       "GeneratorMLP(\n",
       "  (net): Sequential(\n",
       "    (0): Linear(in_features=100, out_features=128, bias=True)\n",
       "    (1): LeakyReLU(negative_slope=0.01, inplace=True)\n",
       "    (2): Linear(in_features=128, out_features=128, bias=True)\n",
       "    (3): LeakyReLU(negative_slope=0.01, inplace=True)\n",
       "    (4): Linear(in_features=128, out_features=128, bias=True)\n",
       "    (5): LeakyReLU(negative_slope=0.01, inplace=True)\n",
       "    (6): Linear(in_features=128, out_features=5, bias=True)\n",
       "  )\n",
       ")"
      ]
     },
     "execution_count": 50,
     "metadata": {},
     "output_type": "execute_result"
    }
   ],
   "source": [
    "gmodel_3 = GeneratorMLP(dim_hidden=128, dim_out=dim_out, noise_dim=noise_dim)\n",
    "gmodel_3.load_state_dict(torch.load('saved_model/model3'))\n",
    "gmodel_3.eval()"
   ]
  },
  {
   "cell_type": "markdown",
   "id": "e866206b",
   "metadata": {},
   "source": [
    "### GAN4"
   ]
  },
  {
   "cell_type": "code",
   "execution_count": 51,
   "id": "df1666c3",
   "metadata": {},
   "outputs": [
    {
     "name": "stdout",
     "output_type": "stream",
     "text": [
      "GeneratorMLP(\n",
      "  (net): Sequential(\n",
      "    (0): Linear(in_features=100, out_features=128, bias=True)\n",
      "    (1): LeakyReLU(negative_slope=0.01, inplace=True)\n",
      "    (2): Linear(in_features=128, out_features=128, bias=True)\n",
      "    (3): LeakyReLU(negative_slope=0.01, inplace=True)\n",
      "    (4): Linear(in_features=128, out_features=128, bias=True)\n",
      "    (5): LeakyReLU(negative_slope=0.01, inplace=True)\n",
      "    (6): Linear(in_features=128, out_features=5, bias=True)\n",
      "  )\n",
      ")\n",
      "DiscriminatorMLP(\n",
      "  (net): Sequential(\n",
      "    (0): Linear(in_features=5, out_features=128, bias=True)\n",
      "    (1): LeakyReLU(negative_slope=0.01, inplace=True)\n",
      "    (2): Linear(in_features=128, out_features=128, bias=True)\n",
      "    (3): LeakyReLU(negative_slope=0.01, inplace=True)\n",
      "    (4): Linear(in_features=128, out_features=128, bias=True)\n",
      "    (5): LeakyReLU(negative_slope=0.01, inplace=True)\n",
      "    (6): Linear(in_features=128, out_features=1, bias=True)\n",
      "    (7): Sigmoid()\n",
      "  )\n",
      ")\n"
     ]
    }
   ],
   "source": [
    "dim_out=5\n",
    "g_model4 = GeneratorMLP(dim_hidden=128, dim_out=dim_out, noise_dim=noise_dim)\n",
    "d_model4 = DiscriminatorMLP(dim_hidden=128, dim_gen_out=dim_out)\n",
    "print(g_model4)\n",
    "print(d_model4)"
   ]
  },
  {
   "cell_type": "code",
   "execution_count": 52,
   "id": "599f044a",
   "metadata": {},
   "outputs": [
    {
     "name": "stdout",
     "output_type": "stream",
     "text": [
      "Finished     4900 out of     5000 98.00 %\r"
     ]
    }
   ],
   "source": [
    "g_model4 = train_GAN(g_lr=g_lr, d_lr=d_lr, batch_size=batch_size, noise_dim=noise_dim,\\\n",
    "                          total_iterations=total_iterations, criterion=criterion, data=data4,\\\n",
    "                          g_model=g_model4, d_model=d_model4)"
   ]
  },
  {
   "cell_type": "code",
   "execution_count": 53,
   "id": "b5f69592",
   "metadata": {},
   "outputs": [],
   "source": [
    "# Save the entire model as a SavedModel.\n",
    "torch.save(g_model4.state_dict(), 'saved_model/model4')"
   ]
  },
  {
   "cell_type": "code",
   "execution_count": 54,
   "id": "0807092e",
   "metadata": {},
   "outputs": [
    {
     "data": {
      "text/plain": [
       "GeneratorMLP(\n",
       "  (net): Sequential(\n",
       "    (0): Linear(in_features=100, out_features=128, bias=True)\n",
       "    (1): LeakyReLU(negative_slope=0.01, inplace=True)\n",
       "    (2): Linear(in_features=128, out_features=128, bias=True)\n",
       "    (3): LeakyReLU(negative_slope=0.01, inplace=True)\n",
       "    (4): Linear(in_features=128, out_features=128, bias=True)\n",
       "    (5): LeakyReLU(negative_slope=0.01, inplace=True)\n",
       "    (6): Linear(in_features=128, out_features=5, bias=True)\n",
       "  )\n",
       ")"
      ]
     },
     "execution_count": 54,
     "metadata": {},
     "output_type": "execute_result"
    }
   ],
   "source": [
    "gmodel_4 = GeneratorMLP(dim_hidden=128, dim_out=dim_out, noise_dim=noise_dim)\n",
    "gmodel_4.load_state_dict(torch.load('saved_model/model4'))\n",
    "gmodel_4.eval()"
   ]
  },
  {
   "cell_type": "markdown",
   "id": "e786128a",
   "metadata": {},
   "source": [
    "### GAN5"
   ]
  },
  {
   "cell_type": "code",
   "execution_count": 55,
   "id": "e783b0dd",
   "metadata": {},
   "outputs": [
    {
     "name": "stdout",
     "output_type": "stream",
     "text": [
      "GeneratorMLP(\n",
      "  (net): Sequential(\n",
      "    (0): Linear(in_features=100, out_features=128, bias=True)\n",
      "    (1): LeakyReLU(negative_slope=0.01, inplace=True)\n",
      "    (2): Linear(in_features=128, out_features=128, bias=True)\n",
      "    (3): LeakyReLU(negative_slope=0.01, inplace=True)\n",
      "    (4): Linear(in_features=128, out_features=128, bias=True)\n",
      "    (5): LeakyReLU(negative_slope=0.01, inplace=True)\n",
      "    (6): Linear(in_features=128, out_features=5, bias=True)\n",
      "  )\n",
      ")\n",
      "DiscriminatorMLP(\n",
      "  (net): Sequential(\n",
      "    (0): Linear(in_features=5, out_features=128, bias=True)\n",
      "    (1): LeakyReLU(negative_slope=0.01, inplace=True)\n",
      "    (2): Linear(in_features=128, out_features=128, bias=True)\n",
      "    (3): LeakyReLU(negative_slope=0.01, inplace=True)\n",
      "    (4): Linear(in_features=128, out_features=128, bias=True)\n",
      "    (5): LeakyReLU(negative_slope=0.01, inplace=True)\n",
      "    (6): Linear(in_features=128, out_features=1, bias=True)\n",
      "    (7): Sigmoid()\n",
      "  )\n",
      ")\n"
     ]
    }
   ],
   "source": [
    "dim_out=5\n",
    "g_model5 = GeneratorMLP(dim_hidden=128, dim_out=dim_out, noise_dim=noise_dim)\n",
    "d_model5 = DiscriminatorMLP(dim_hidden=128, dim_gen_out=dim_out)\n",
    "print(g_model5)\n",
    "print(d_model5)"
   ]
  },
  {
   "cell_type": "code",
   "execution_count": 56,
   "id": "807b3607",
   "metadata": {},
   "outputs": [],
   "source": [
    "data5, data6 = GAN3_data(data_path)"
   ]
  },
  {
   "cell_type": "code",
   "execution_count": 57,
   "id": "868bc603",
   "metadata": {},
   "outputs": [
    {
     "name": "stdout",
     "output_type": "stream",
     "text": [
      "Finished     4900 out of     5000 98.00 %\r"
     ]
    }
   ],
   "source": [
    "g_model5 = train_GAN(g_lr=g_lr, d_lr=d_lr, batch_size=batch_size, noise_dim=noise_dim,\\\n",
    "                          total_iterations=total_iterations, criterion=criterion, data=data5,\\\n",
    "                          g_model=g_model5, d_model=d_model5)"
   ]
  },
  {
   "cell_type": "code",
   "execution_count": 58,
   "id": "8e882cf9",
   "metadata": {},
   "outputs": [],
   "source": [
    "# Save the entire model as a SavedModel.\n",
    "torch.save(g_model5.state_dict(), 'saved_model/model5')"
   ]
  },
  {
   "cell_type": "code",
   "execution_count": 59,
   "id": "4e56db2c",
   "metadata": {},
   "outputs": [
    {
     "data": {
      "text/plain": [
       "GeneratorMLP(\n",
       "  (net): Sequential(\n",
       "    (0): Linear(in_features=100, out_features=128, bias=True)\n",
       "    (1): LeakyReLU(negative_slope=0.01, inplace=True)\n",
       "    (2): Linear(in_features=128, out_features=128, bias=True)\n",
       "    (3): LeakyReLU(negative_slope=0.01, inplace=True)\n",
       "    (4): Linear(in_features=128, out_features=128, bias=True)\n",
       "    (5): LeakyReLU(negative_slope=0.01, inplace=True)\n",
       "    (6): Linear(in_features=128, out_features=5, bias=True)\n",
       "  )\n",
       ")"
      ]
     },
     "execution_count": 59,
     "metadata": {},
     "output_type": "execute_result"
    }
   ],
   "source": [
    "gmodel_5 = GeneratorMLP(dim_hidden=128, dim_out=dim_out, noise_dim=noise_dim)\n",
    "gmodel_5.load_state_dict(torch.load('saved_model/model5'))\n",
    "gmodel_5.eval()"
   ]
  },
  {
   "cell_type": "markdown",
   "id": "603d9808",
   "metadata": {},
   "source": [
    "### GAN6"
   ]
  },
  {
   "cell_type": "code",
   "execution_count": 60,
   "id": "a971f5bf",
   "metadata": {},
   "outputs": [
    {
     "name": "stdout",
     "output_type": "stream",
     "text": [
      "GeneratorMLP(\n",
      "  (net): Sequential(\n",
      "    (0): Linear(in_features=100, out_features=128, bias=True)\n",
      "    (1): LeakyReLU(negative_slope=0.01, inplace=True)\n",
      "    (2): Linear(in_features=128, out_features=128, bias=True)\n",
      "    (3): LeakyReLU(negative_slope=0.01, inplace=True)\n",
      "    (4): Linear(in_features=128, out_features=128, bias=True)\n",
      "    (5): LeakyReLU(negative_slope=0.01, inplace=True)\n",
      "    (6): Linear(in_features=128, out_features=5, bias=True)\n",
      "  )\n",
      ")\n",
      "DiscriminatorMLP(\n",
      "  (net): Sequential(\n",
      "    (0): Linear(in_features=5, out_features=128, bias=True)\n",
      "    (1): LeakyReLU(negative_slope=0.01, inplace=True)\n",
      "    (2): Linear(in_features=128, out_features=128, bias=True)\n",
      "    (3): LeakyReLU(negative_slope=0.01, inplace=True)\n",
      "    (4): Linear(in_features=128, out_features=128, bias=True)\n",
      "    (5): LeakyReLU(negative_slope=0.01, inplace=True)\n",
      "    (6): Linear(in_features=128, out_features=1, bias=True)\n",
      "    (7): Sigmoid()\n",
      "  )\n",
      ")\n"
     ]
    }
   ],
   "source": [
    "dim_out=5\n",
    "g_model6 = GeneratorMLP(dim_hidden=128, dim_out=dim_out, noise_dim=noise_dim)\n",
    "d_model6 = DiscriminatorMLP(dim_hidden=128, dim_gen_out=dim_out)\n",
    "print(g_model6)\n",
    "print(d_model6)"
   ]
  },
  {
   "cell_type": "code",
   "execution_count": 61,
   "id": "fb6532c0",
   "metadata": {},
   "outputs": [
    {
     "name": "stdout",
     "output_type": "stream",
     "text": [
      "Finished     4900 out of     5000 98.00 %\r"
     ]
    }
   ],
   "source": [
    "g_model6 = train_GAN(g_lr=g_lr, d_lr=d_lr, batch_size=batch_size, noise_dim=noise_dim,\\\n",
    "                          total_iterations=total_iterations, criterion=criterion, data=data6,\\\n",
    "                          g_model=g_model6, d_model=d_model6)"
   ]
  },
  {
   "cell_type": "code",
   "execution_count": 62,
   "id": "032cc56c",
   "metadata": {},
   "outputs": [],
   "source": [
    "# Save the entire model as a SavedModel.\n",
    "torch.save(g_model6.state_dict(), 'saved_model/model6')"
   ]
  },
  {
   "cell_type": "code",
   "execution_count": 63,
   "id": "2ba89aa3",
   "metadata": {},
   "outputs": [
    {
     "data": {
      "text/plain": [
       "GeneratorMLP(\n",
       "  (net): Sequential(\n",
       "    (0): Linear(in_features=100, out_features=128, bias=True)\n",
       "    (1): LeakyReLU(negative_slope=0.01, inplace=True)\n",
       "    (2): Linear(in_features=128, out_features=128, bias=True)\n",
       "    (3): LeakyReLU(negative_slope=0.01, inplace=True)\n",
       "    (4): Linear(in_features=128, out_features=128, bias=True)\n",
       "    (5): LeakyReLU(negative_slope=0.01, inplace=True)\n",
       "    (6): Linear(in_features=128, out_features=5, bias=True)\n",
       "  )\n",
       ")"
      ]
     },
     "execution_count": 63,
     "metadata": {},
     "output_type": "execute_result"
    }
   ],
   "source": [
    "gmodel_6 = GeneratorMLP(dim_hidden=128, dim_out=dim_out, noise_dim=noise_dim)\n",
    "gmodel_6.load_state_dict(torch.load('saved_model/model6'))\n",
    "gmodel_6.eval()"
   ]
  },
  {
   "cell_type": "markdown",
   "id": "5dd7b3fe",
   "metadata": {},
   "source": [
    "## TEST"
   ]
  },
  {
   "cell_type": "code",
   "execution_count": 21,
   "id": "d8ecb27d",
   "metadata": {},
   "outputs": [],
   "source": [
    "import numpy as np, queue, pylab as plt, random, sys, enum, math\n",
    "\n",
    "class Type(enum.Enum):\n",
    "    photon = 0; electron = 1; positron = 2; proton = 4; nuetron = 5\n",
    "\n",
    "class Arena :\n",
    "    def __init__(self, wx:float, wy:float, wz:float, nx:int, ny:int, nz:int) :\n",
    "        self.M = np.zeros((nx, ny, nz))\n",
    "        self.voxel = np.array((wx/nx, wy/ny, wz/nz))\n",
    "    def Deposit(self, pos, ene:float) :\n",
    "        idx = (pos/self.voxel).astype(int)\n",
    "        try :\n",
    "            self.M[idx[0],idx[1],idx[2]] += ene\n",
    "        except :\n",
    "            return False # if a deposit fails, it means we're out of the arena\n",
    "        return True\n",
    "\n"
   ]
  },
  {
   "cell_type": "code",
   "execution_count": 22,
   "id": "0eeae722",
   "metadata": {},
   "outputs": [],
   "source": [
    "class Particle :\n",
    "    def __init__(self, x:float, y:float, z:float, dx:float, dy:float, dz:float, e:float, t:Type, is_primary:bool=False) :\n",
    "        self.pos = np.array((x, y, z), dtype=float)\n",
    "        self.dir = np.array((dx, dy, dz), dtype=float)\n",
    "        self.ene = e\n",
    "        self.type = t\n",
    "        self.is_primary = is_primary\n",
    "\n",
    "    def Lose(self, energy:float, phantom:Arena) :\n",
    "        energy = min(energy, self.ene) # lose this much energy and deposit it in the arena\n",
    "        self.ene -= energy\n",
    "        if not phantom.Deposit(self.pos, energy) :\n",
    "            self.ene = 0.0 # if a deposit fails, it means we're out of the arena, so kill the particle\n",
    "\n",
    "    def Move(self, distance:float) :\n",
    "        self.pos += distance*self.dir\n",
    "\n",
    "    def Rotate(self, cos_angle:float) :\n",
    "        s = cos_angle * random.random() # approximate version\n",
    "        self.dir[1] += s\n",
    "        self.dir[2] += (cos_angle - s)\n",
    "        self.dir /= np.linalg.norm(self.dir)"
   ]
  },
  {
   "cell_type": "code",
   "execution_count": 23,
   "id": "0b909bd1",
   "metadata": {},
   "outputs": [],
   "source": [
    "\n",
    "def CoreEvent(max_dist:float, max_dele:float, max_cos:float, prob:float) :\n",
    "    s = random.random() # simple event generator for testing\n",
    "    distance = max_dist*s\n",
    "    delta_e = max_dele*s\n",
    "    cos_theta = max_cos*(random.random() - 0.5)\n",
    "    if s > prob :\n",
    "        delta_e *= 0.5\n",
    "        Q = Particle(P.pos[0], P.pos[1], P.pos[2], P.dir[0], P.dir[1], P.dir[2], delta_e, Type.electron)\n",
    "        Q.Rotate(0.5)\n",
    "        return distance, delta_e, cos_theta, Q\n",
    "    else :        \n",
    "        return distance, delta_e, cos_theta, None\n",
    "\n"
   ]
  },
  {
   "cell_type": "code",
   "execution_count": 24,
   "id": "321fb573",
   "metadata": {},
   "outputs": [],
   "source": [
    "def GetEvent(P:Particle) :\n",
    "    \"\"\"this is the function you are responsible for creating, given a particle it returns:\n",
    "    distance:\tdistance the particle travels before having this event\n",
    "    delta_e:\tamount of energy that the particle loses during this event\n",
    "    cos_theta:\tcosine of the angle that the particle rotates by\n",
    "    Q:\t\ta particle generated during this event, or None\n",
    "    \"\"\"\n",
    "    if P.type == Type.photon :\n",
    "        return CoreEvent(5.0, 0.5, 0.05, 0.99)\n",
    "    elif P.type == Type.electron :\n",
    "        return CoreEvent(1.0, 0.2, 0.1, 0.75)"
   ]
  },
  {
   "cell_type": "code",
   "execution_count": 26,
   "id": "ef0927ba",
   "metadata": {},
   "outputs": [
    {
     "name": "stdout",
     "output_type": "stream",
     "text": [
      "Finished     9999 out of    10000 99.99 %\n",
      "Finished with    10000 primaries and a total of  1365415 particles\n"
     ]
    },
    {
     "data": {
      "image/png": "[encoded data removed]",
      "text/plain": [
       "<Figure size 1800x600 with 4 Axes>"
      ]
     },
     "metadata": {},
     "output_type": "display_data"
    }
   ],
   "source": [
    "\n",
    "\n",
    "\n",
    "WX,WY,WZ = 300,200,200 # 300x200x200 mm\n",
    "NX,NY,NZ = 150,100,100 # for 2x2x2 mm voxels\n",
    "A = Arena(WX, WY, WZ, NX, NY, NZ)\n",
    "NMC = 10000 # number of particles we want to simulate\n",
    "EMAX = 20.0 # maximum energy of particles\n",
    "\n",
    "ToSimulate = queue.Queue() # the queue of particles\n",
    "for i in range(NMC) :\n",
    "    # create NMC particles at x=0, y=WY/2, z=WZ/2, going in the X direction (1,0,0) and with a gamma distributed energy\n",
    "    s = random.gauss(0.0, 0.1)\n",
    "    ypos = (1+s)*WY/2\n",
    "    ydir = 0.2*s\n",
    "    s = random.gauss(0.0, 0.1)\n",
    "    zpos = (1+s)*WZ/2\n",
    "    zdir = 0.2*s\n",
    "    xdir = math.sqrt(1 - ydir**2 - zdir**2)\n",
    "    e = EMAX*random.gammavariate(2.0, 0.667)\n",
    "    P = Particle(0.0, ypos, zpos, xdir, ydir, zdir, e, Type.electron, True)\n",
    "    ToSimulate.put(P)\n",
    "\n",
    "DONE = 0 # count number of primary particles\n",
    "NALL = 0 # count total number of particles\n",
    "while not ToSimulate.empty() > 0 :\n",
    "    P = ToSimulate.get()\n",
    "    if P.is_primary :\n",
    "        DONE += 1\n",
    "    NALL += 1\n",
    "    while P.ene > 0.0 :\n",
    "        distance, delta_e, cos_theta, generated_particle = GetEvent(P)\n",
    "        P.Move(distance)\n",
    "        P.Lose(delta_e, A)\n",
    "        P.Rotate(cos_theta)\n",
    "        if generated_particle is not None :\n",
    "            ToSimulate.put(generated_particle)\n",
    "    if DONE % 1000 :\n",
    "        sys.stdout.write(f\"Finished {DONE:8} out of {NMC:8} {(100.0*DONE)/NMC:.2f} %\\r\"); sys.stdout.flush()\n",
    "sys.stdout.write(f\"\\nFinished with {NMC:8} primaries and a total of {NALL:8} particles\\n\"); sys.stdout.flush()\n",
    "\n",
    "fig,axes = plt.subplots(nrows=1, ncols=3, figsize=(18,6))\n",
    "CNTR = axes[0].contourf( np.log10(A.M.sum(axis=1)+0.001), cmap=\"inferno\" )\n",
    "axes[0].axvline(NY/2, ls=\":\", color=\"white\")\n",
    "axes[0].axhline(5, ls=\":\", color=\"green\")\n",
    "plt.colorbar(CNTR, aspect=60)\n",
    "axes[0].set_title(\"log(Dose) in X/Z plane\")\n",
    "axes[1].plot( A.M[:,int(NY/2),int(NZ/2)] )\n",
    "axes[1].set_title(\"dose along white line\")\n",
    "axes[2].plot( A.M[5,:,int(NZ/2)] )\n",
    "axes[2].set_title(\"dose across green line\")\n",
    "plt.show()\n",
    "\n"
   ]
  },
  {
   "cell_type": "code",
   "execution_count": null,
   "id": "0cafe7fb",
   "metadata": {},
   "outputs": [],
   "source": [
    "def GetEvent_Model(P:Particle, table_of_p):\n",
    "    # Compute probability of particles\n",
    "    table = table_of_p.copy(deep=True)\n",
    "    KinE = P.ene\n",
    "    prob_all = table.loc[(table['Energy_min'] <  KinE) & (table['Energy_max'] >= KinE)]\n",
    "    prob0, prob1 = prob_all[['proba_0', 'proba_1']].values\n",
    "    s = random.random() # simple event generator for testing\n",
    "    if s <= prob0:\n",
    "        name_s = 0\n",
    "    elif ((s > prob0) & (s < prob0 + prob1)):\n",
    "        name_s = 1\n",
    "    else:\n",
    "        name_s = 2\n",
    "    \n",
    "    # Now we have the type of the particle\n",
    "    # Let's find the model necessary for the particle\n",
    "    \n",
    "    model = get_model(KinE=KinE, name_s=name_s)\n",
    "    \n",
    "    if name_s!=0:\n",
    "        if (name_s == 1):\n",
    "            name_s = Type.electron\n",
    "        else:\n",
    "            name_s = Type.photon\n",
    "        Q = Particle(P.pos[0], P.pos[1], P.pos[2], DX_Q, DY_Q, DZ_Q, delta_e, name_s)\n",
    "        Q.Rotate(0.5)\n",
    "        return distance, delta_e, cos_theta, Q\n",
    "    "
   ]
  },
  {
   "cell_type": "code",
   "execution_count": 28,
   "id": "7aa5e58b",
   "metadata": {},
   "outputs": [
    {
     "name": "stdout",
     "output_type": "stream",
     "text": [
      "1\n"
     ]
    }
   ],
   "source": [
    "a = 1\n",
    "if a != None:\n",
    "    print(a)"
   ]
  },
  {
   "cell_type": "code",
   "execution_count": null,
   "id": "b592a4a7",
   "metadata": {},
   "outputs": [],
   "source": []
  },
  {
   "cell_type": "code",
   "execution_count": null,
   "id": "75dd696c",
   "metadata": {},
   "outputs": [],
   "source": []
  },
  {
   "cell_type": "code",
   "execution_count": null,
   "id": "45ad6988",
   "metadata": {},
   "outputs": [],
   "source": []
  }
 ],
 "metadata": {
  "kernelspec": {
   "display_name": "Python 3 (ipykernel)",
   "language": "python",
   "name": "python3"
  },
  "language_info": {
   "codemirror_mode": {
    "name": "ipython",
    "version": 3
   },
   "file_extension": ".py",
   "mimetype": "text/x-python",
   "name": "python",
   "nbconvert_exporter": "python",
   "pygments_lexer": "ipython3",
   "version": "3.9.15"
  }
 },
 "nbformat": 4,
 "nbformat_minor": 5
}
