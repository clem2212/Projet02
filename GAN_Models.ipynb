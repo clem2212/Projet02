{
 "cells": [
  {
   "cell_type": "code",
   "execution_count": 8,
   "id": "e0d5be89",
   "metadata": {},
   "outputs": [],
   "source": [
    "import numpy as np\n",
    "import pandas as pd\n",
    "import torch\n",
    "import torch.nn as nn\n",
    "from matplotlib import pyplot as plt\n",
    "from implementations import *\n",
    "from GAN_function import *\n",
    "\n",
    "#to access our implemented ML functions\n",
    "%load_ext autoreload\n",
    "%autoreload 2"
   ]
  },
  {
   "cell_type": "markdown",
   "id": "57466229",
   "metadata": {},
   "source": [
    "## Train all models"
   ]
  },
  {
   "cell_type": "code",
   "execution_count": 9,
   "id": "31a935ea",
   "metadata": {},
   "outputs": [],
   "source": [
    "# THE PARAMETERS\n",
    "\n",
    "data_path = data_file(20.0\n",
    "                     )\n",
    "g_lr = 1e-4  # @param {type:\"number\",  min:0.000001}\n",
    "# Learning rate of the discriminator:\n",
    "d_lr = 5e-4  # @param {type:\"number\",  min:0.000001}\n",
    "# batch size:\n",
    "batch_size = 64  # @param {type:\"integer\",  min:1}\n",
    "# dimension of tha latent vector\n",
    "noise_dim = 100  # @param {type:\"integer\",  min:1}\n",
    "# number of training iterations\n",
    "total_iterations = 5000  # @param {type:\"slider\", min:1, max:50000, step:1}\n",
    "\n",
    "criterion = nn.BCELoss()  # Binary cross entropy"
   ]
  },
  {
   "cell_type": "markdown",
   "id": "969bef42",
   "metadata": {},
   "source": [
    "### GAN1"
   ]
  },
  {
   "cell_type": "code",
   "execution_count": 36,
   "id": "c1267c61",
   "metadata": {},
   "outputs": [
    {
     "name": "stdout",
     "output_type": "stream",
     "text": [
      "GeneratorMLP(\n",
      "  (net): Sequential(\n",
      "    (0): Linear(in_features=100, out_features=128, bias=True)\n",
      "    (1): LeakyReLU(negative_slope=0.01, inplace=True)\n",
      "    (2): Linear(in_features=128, out_features=128, bias=True)\n",
      "    (3): LeakyReLU(negative_slope=0.01, inplace=True)\n",
      "    (4): Linear(in_features=128, out_features=128, bias=True)\n",
      "    (5): LeakyReLU(negative_slope=0.01, inplace=True)\n",
      "    (6): Linear(in_features=128, out_features=2, bias=True)\n",
      "  )\n",
      ")\n",
      "DiscriminatorMLP(\n",
      "  (net): Sequential(\n",
      "    (0): Linear(in_features=2, out_features=128, bias=True)\n",
      "    (1): LeakyReLU(negative_slope=0.01, inplace=True)\n",
      "    (2): Linear(in_features=128, out_features=128, bias=True)\n",
      "    (3): LeakyReLU(negative_slope=0.01, inplace=True)\n",
      "    (4): Linear(in_features=128, out_features=128, bias=True)\n",
      "    (5): LeakyReLU(negative_slope=0.01, inplace=True)\n",
      "    (6): Linear(in_features=128, out_features=1, bias=True)\n",
      "    (7): Sigmoid()\n",
      "  )\n",
      ")\n"
     ]
    }
   ],
   "source": [
    "dim_out=2\n",
    "g_model1 = GeneratorMLP(dim_hidden=128, dim_out=dim_out, noise_dim=noise_dim)\n",
    "d_model1 = DiscriminatorMLP(dim_hidden=128, dim_gen_out=dim_out)\n",
    "print(g_model1)\n",
    "print(d_model1)"
   ]
  },
  {
   "cell_type": "code",
   "execution_count": 37,
   "id": "dabed75c",
   "metadata": {},
   "outputs": [],
   "source": [
    "data1, data2 = GAN1_data(data_path)"
   ]
  },
  {
   "cell_type": "code",
   "execution_count": 38,
   "id": "47716dd1",
   "metadata": {},
   "outputs": [
    {
     "name": "stdout",
     "output_type": "stream",
     "text": [
      "Finished     4900 out of     5000 98.00 %\r"
     ]
    }
   ],
   "source": [
    "g_model1 = train_GAN(g_lr=g_lr, d_lr=d_lr, batch_size=batch_size, noise_dim=noise_dim,\\\n",
    "                          total_iterations=total_iterations, criterion=criterion, data=data1,\\\n",
    "                          g_model=g_model1, d_model=d_model1)"
   ]
  },
  {
   "cell_type": "code",
   "execution_count": 39,
   "id": "33c85471",
   "metadata": {},
   "outputs": [],
   "source": [
    "# Save the entire model as a SavedModel.\n",
    "torch.save(g_model1.state_dict(), 'saved_model/model1')"
   ]
  },
  {
   "cell_type": "code",
   "execution_count": 41,
   "id": "bac098d8",
   "metadata": {},
   "outputs": [
    {
     "data": {
      "text/plain": [
       "GeneratorMLP(\n",
       "  (net): Sequential(\n",
       "    (0): Linear(in_features=100, out_features=128, bias=True)\n",
       "    (1): LeakyReLU(negative_slope=0.01, inplace=True)\n",
       "    (2): Linear(in_features=128, out_features=128, bias=True)\n",
       "    (3): LeakyReLU(negative_slope=0.01, inplace=True)\n",
       "    (4): Linear(in_features=128, out_features=128, bias=True)\n",
       "    (5): LeakyReLU(negative_slope=0.01, inplace=True)\n",
       "    (6): Linear(in_features=128, out_features=2, bias=True)\n",
       "  )\n",
       ")"
      ]
     },
     "execution_count": 41,
     "metadata": {},
     "output_type": "execute_result"
    }
   ],
   "source": [
    "gmodel_1 = GeneratorMLP(dim_hidden=128, dim_out=dim_out, noise_dim=noise_dim)\n",
    "gmodel_1.load_state_dict(torch.load('saved_model/model1'))\n",
    "gmodel_1.eval()"
   ]
  },
  {
   "cell_type": "markdown",
   "id": "266c79f9",
   "metadata": {},
   "source": [
    "### GAN2"
   ]
  },
  {
   "cell_type": "code",
   "execution_count": 42,
   "id": "7311ad14",
   "metadata": {},
   "outputs": [
    {
     "name": "stdout",
     "output_type": "stream",
     "text": [
      "GeneratorMLP(\n",
      "  (net): Sequential(\n",
      "    (0): Linear(in_features=100, out_features=128, bias=True)\n",
      "    (1): LeakyReLU(negative_slope=0.01, inplace=True)\n",
      "    (2): Linear(in_features=128, out_features=128, bias=True)\n",
      "    (3): LeakyReLU(negative_slope=0.01, inplace=True)\n",
      "    (4): Linear(in_features=128, out_features=128, bias=True)\n",
      "    (5): LeakyReLU(negative_slope=0.01, inplace=True)\n",
      "    (6): Linear(in_features=128, out_features=2, bias=True)\n",
      "  )\n",
      ")\n",
      "DiscriminatorMLP(\n",
      "  (net): Sequential(\n",
      "    (0): Linear(in_features=2, out_features=128, bias=True)\n",
      "    (1): LeakyReLU(negative_slope=0.01, inplace=True)\n",
      "    (2): Linear(in_features=128, out_features=128, bias=True)\n",
      "    (3): LeakyReLU(negative_slope=0.01, inplace=True)\n",
      "    (4): Linear(in_features=128, out_features=128, bias=True)\n",
      "    (5): LeakyReLU(negative_slope=0.01, inplace=True)\n",
      "    (6): Linear(in_features=128, out_features=1, bias=True)\n",
      "    (7): Sigmoid()\n",
      "  )\n",
      ")\n"
     ]
    }
   ],
   "source": [
    "dim_out=2\n",
    "g_model2 = GeneratorMLP(dim_hidden=128, dim_out=dim_out, noise_dim=noise_dim)\n",
    "d_model2 = DiscriminatorMLP(dim_hidden=128, dim_gen_out=dim_out)\n",
    "print(g_model2)\n",
    "print(d_model2)"
   ]
  },
  {
   "cell_type": "code",
   "execution_count": 43,
   "id": "e7cff81f",
   "metadata": {},
   "outputs": [
    {
     "name": "stdout",
     "output_type": "stream",
     "text": [
      "Finished     4900 out of     5000 98.00 %\r"
     ]
    }
   ],
   "source": [
    "g_model2 = train_GAN(g_lr=g_lr, d_lr=d_lr, batch_size=batch_size, noise_dim=noise_dim,\\\n",
    "                          total_iterations=total_iterations, criterion=criterion, data=data2,\\\n",
    "                          g_model=g_model2, d_model=d_model2)"
   ]
  },
  {
   "cell_type": "code",
   "execution_count": 44,
   "id": "84e87ab0",
   "metadata": {},
   "outputs": [],
   "source": [
    "# Save the entire model as a SavedModel.\n",
    "torch.save(g_model2.state_dict(), 'saved_model/model2')"
   ]
  },
  {
   "cell_type": "code",
   "execution_count": 45,
   "id": "805ffad4",
   "metadata": {},
   "outputs": [
    {
     "data": {
      "text/plain": [
       "GeneratorMLP(\n",
       "  (net): Sequential(\n",
       "    (0): Linear(in_features=100, out_features=128, bias=True)\n",
       "    (1): LeakyReLU(negative_slope=0.01, inplace=True)\n",
       "    (2): Linear(in_features=128, out_features=128, bias=True)\n",
       "    (3): LeakyReLU(negative_slope=0.01, inplace=True)\n",
       "    (4): Linear(in_features=128, out_features=128, bias=True)\n",
       "    (5): LeakyReLU(negative_slope=0.01, inplace=True)\n",
       "    (6): Linear(in_features=128, out_features=2, bias=True)\n",
       "  )\n",
       ")"
      ]
     },
     "execution_count": 45,
     "metadata": {},
     "output_type": "execute_result"
    }
   ],
   "source": [
    "gmodel_2 = GeneratorMLP(dim_hidden=128, dim_out=dim_out, noise_dim=noise_dim)\n",
    "gmodel_2.load_state_dict(torch.load('saved_model/model2'))\n",
    "gmodel_2.eval()"
   ]
  },
  {
   "cell_type": "markdown",
   "id": "15cfc55c",
   "metadata": {},
   "source": [
    "### GAN3"
   ]
  },
  {
   "cell_type": "code",
   "execution_count": 46,
   "id": "eb0564ad",
   "metadata": {},
   "outputs": [
    {
     "name": "stdout",
     "output_type": "stream",
     "text": [
      "GeneratorMLP(\n",
      "  (net): Sequential(\n",
      "    (0): Linear(in_features=100, out_features=128, bias=True)\n",
      "    (1): LeakyReLU(negative_slope=0.01, inplace=True)\n",
      "    (2): Linear(in_features=128, out_features=128, bias=True)\n",
      "    (3): LeakyReLU(negative_slope=0.01, inplace=True)\n",
      "    (4): Linear(in_features=128, out_features=128, bias=True)\n",
      "    (5): LeakyReLU(negative_slope=0.01, inplace=True)\n",
      "    (6): Linear(in_features=128, out_features=5, bias=True)\n",
      "  )\n",
      ")\n",
      "DiscriminatorMLP(\n",
      "  (net): Sequential(\n",
      "    (0): Linear(in_features=5, out_features=128, bias=True)\n",
      "    (1): LeakyReLU(negative_slope=0.01, inplace=True)\n",
      "    (2): Linear(in_features=128, out_features=128, bias=True)\n",
      "    (3): LeakyReLU(negative_slope=0.01, inplace=True)\n",
      "    (4): Linear(in_features=128, out_features=128, bias=True)\n",
      "    (5): LeakyReLU(negative_slope=0.01, inplace=True)\n",
      "    (6): Linear(in_features=128, out_features=1, bias=True)\n",
      "    (7): Sigmoid()\n",
      "  )\n",
      ")\n"
     ]
    }
   ],
   "source": [
    "dim_out=5\n",
    "g_model3 = GeneratorMLP(dim_hidden=128, dim_out=dim_out, noise_dim=noise_dim)\n",
    "d_model3 = DiscriminatorMLP(dim_hidden=128, dim_gen_out=dim_out)\n",
    "print(g_model3)\n",
    "print(d_model3)"
   ]
  },
  {
   "cell_type": "code",
   "execution_count": 47,
   "id": "8a3b5787",
   "metadata": {},
   "outputs": [],
   "source": [
    "data3, data4 = GAN2_data(data_path)"
   ]
  },
  {
   "cell_type": "code",
   "execution_count": 48,
   "id": "f9b2dc9a",
   "metadata": {},
   "outputs": [
    {
     "name": "stdout",
     "output_type": "stream",
     "text": [
      "Finished     4900 out of     5000 98.00 %\r"
     ]
    }
   ],
   "source": [
    "g_model3 = train_GAN(g_lr=g_lr, d_lr=d_lr, batch_size=batch_size, noise_dim=noise_dim,\\\n",
    "                          total_iterations=total_iterations, criterion=criterion, data=data3,\\\n",
    "                          g_model=g_model3, d_model=d_model3)"
   ]
  },
  {
   "cell_type": "code",
   "execution_count": 49,
   "id": "a511f204",
   "metadata": {},
   "outputs": [],
   "source": [
    "# Save the entire model as a SavedModel.\n",
    "torch.save(g_model3.state_dict(), 'saved_model/model3')"
   ]
  },
  {
   "cell_type": "code",
   "execution_count": 50,
   "id": "52e679dd",
   "metadata": {},
   "outputs": [
    {
     "data": {
      "text/plain": [
       "GeneratorMLP(\n",
       "  (net): Sequential(\n",
       "    (0): Linear(in_features=100, out_features=128, bias=True)\n",
       "    (1): LeakyReLU(negative_slope=0.01, inplace=True)\n",
       "    (2): Linear(in_features=128, out_features=128, bias=True)\n",
       "    (3): LeakyReLU(negative_slope=0.01, inplace=True)\n",
       "    (4): Linear(in_features=128, out_features=128, bias=True)\n",
       "    (5): LeakyReLU(negative_slope=0.01, inplace=True)\n",
       "    (6): Linear(in_features=128, out_features=5, bias=True)\n",
       "  )\n",
       ")"
      ]
     },
     "execution_count": 50,
     "metadata": {},
     "output_type": "execute_result"
    }
   ],
   "source": [
    "gmodel_3 = GeneratorMLP(dim_hidden=128, dim_out=dim_out, noise_dim=noise_dim)\n",
    "gmodel_3.load_state_dict(torch.load('saved_model/model3'))\n",
    "gmodel_3.eval()"
   ]
  },
  {
   "cell_type": "markdown",
   "id": "e866206b",
   "metadata": {},
   "source": [
    "### GAN4"
   ]
  },
  {
   "cell_type": "code",
   "execution_count": 51,
   "id": "df1666c3",
   "metadata": {},
   "outputs": [
    {
     "name": "stdout",
     "output_type": "stream",
     "text": [
      "GeneratorMLP(\n",
      "  (net): Sequential(\n",
      "    (0): Linear(in_features=100, out_features=128, bias=True)\n",
      "    (1): LeakyReLU(negative_slope=0.01, inplace=True)\n",
      "    (2): Linear(in_features=128, out_features=128, bias=True)\n",
      "    (3): LeakyReLU(negative_slope=0.01, inplace=True)\n",
      "    (4): Linear(in_features=128, out_features=128, bias=True)\n",
      "    (5): LeakyReLU(negative_slope=0.01, inplace=True)\n",
      "    (6): Linear(in_features=128, out_features=5, bias=True)\n",
      "  )\n",
      ")\n",
      "DiscriminatorMLP(\n",
      "  (net): Sequential(\n",
      "    (0): Linear(in_features=5, out_features=128, bias=True)\n",
      "    (1): LeakyReLU(negative_slope=0.01, inplace=True)\n",
      "    (2): Linear(in_features=128, out_features=128, bias=True)\n",
      "    (3): LeakyReLU(negative_slope=0.01, inplace=True)\n",
      "    (4): Linear(in_features=128, out_features=128, bias=True)\n",
      "    (5): LeakyReLU(negative_slope=0.01, inplace=True)\n",
      "    (6): Linear(in_features=128, out_features=1, bias=True)\n",
      "    (7): Sigmoid()\n",
      "  )\n",
      ")\n"
     ]
    }
   ],
   "source": [
    "dim_out=5\n",
    "g_model4 = GeneratorMLP(dim_hidden=128, dim_out=dim_out, noise_dim=noise_dim)\n",
    "d_model4 = DiscriminatorMLP(dim_hidden=128, dim_gen_out=dim_out)\n",
    "print(g_model4)\n",
    "print(d_model4)"
   ]
  },
  {
   "cell_type": "code",
   "execution_count": 52,
   "id": "599f044a",
   "metadata": {},
   "outputs": [
    {
     "name": "stdout",
     "output_type": "stream",
     "text": [
      "Finished     4900 out of     5000 98.00 %\r"
     ]
    }
   ],
   "source": [
    "g_model4 = train_GAN(g_lr=g_lr, d_lr=d_lr, batch_size=batch_size, noise_dim=noise_dim,\\\n",
    "                          total_iterations=total_iterations, criterion=criterion, data=data4,\\\n",
    "                          g_model=g_model4, d_model=d_model4)"
   ]
  },
  {
   "cell_type": "code",
   "execution_count": 53,
   "id": "b5f69592",
   "metadata": {},
   "outputs": [],
   "source": [
    "# Save the entire model as a SavedModel.\n",
    "torch.save(g_model4.state_dict(), 'saved_model/model4')"
   ]
  },
  {
   "cell_type": "code",
   "execution_count": 54,
   "id": "0807092e",
   "metadata": {},
   "outputs": [
    {
     "data": {
      "text/plain": [
       "GeneratorMLP(\n",
       "  (net): Sequential(\n",
       "    (0): Linear(in_features=100, out_features=128, bias=True)\n",
       "    (1): LeakyReLU(negative_slope=0.01, inplace=True)\n",
       "    (2): Linear(in_features=128, out_features=128, bias=True)\n",
       "    (3): LeakyReLU(negative_slope=0.01, inplace=True)\n",
       "    (4): Linear(in_features=128, out_features=128, bias=True)\n",
       "    (5): LeakyReLU(negative_slope=0.01, inplace=True)\n",
       "    (6): Linear(in_features=128, out_features=5, bias=True)\n",
       "  )\n",
       ")"
      ]
     },
     "execution_count": 54,
     "metadata": {},
     "output_type": "execute_result"
    }
   ],
   "source": [
    "gmodel_4 = GeneratorMLP(dim_hidden=128, dim_out=dim_out, noise_dim=noise_dim)\n",
    "gmodel_4.load_state_dict(torch.load('saved_model/model4'))\n",
    "gmodel_4.eval()"
   ]
  },
  {
   "cell_type": "markdown",
   "id": "e786128a",
   "metadata": {},
   "source": [
    "### GAN5"
   ]
  },
  {
   "cell_type": "code",
   "execution_count": 55,
   "id": "e783b0dd",
   "metadata": {},
   "outputs": [
    {
     "name": "stdout",
     "output_type": "stream",
     "text": [
      "GeneratorMLP(\n",
      "  (net): Sequential(\n",
      "    (0): Linear(in_features=100, out_features=128, bias=True)\n",
      "    (1): LeakyReLU(negative_slope=0.01, inplace=True)\n",
      "    (2): Linear(in_features=128, out_features=128, bias=True)\n",
      "    (3): LeakyReLU(negative_slope=0.01, inplace=True)\n",
      "    (4): Linear(in_features=128, out_features=128, bias=True)\n",
      "    (5): LeakyReLU(negative_slope=0.01, inplace=True)\n",
      "    (6): Linear(in_features=128, out_features=5, bias=True)\n",
      "  )\n",
      ")\n",
      "DiscriminatorMLP(\n",
      "  (net): Sequential(\n",
      "    (0): Linear(in_features=5, out_features=128, bias=True)\n",
      "    (1): LeakyReLU(negative_slope=0.01, inplace=True)\n",
      "    (2): Linear(in_features=128, out_features=128, bias=True)\n",
      "    (3): LeakyReLU(negative_slope=0.01, inplace=True)\n",
      "    (4): Linear(in_features=128, out_features=128, bias=True)\n",
      "    (5): LeakyReLU(negative_slope=0.01, inplace=True)\n",
      "    (6): Linear(in_features=128, out_features=1, bias=True)\n",
      "    (7): Sigmoid()\n",
      "  )\n",
      ")\n"
     ]
    }
   ],
   "source": [
    "dim_out=5\n",
    "g_model5 = GeneratorMLP(dim_hidden=128, dim_out=dim_out, noise_dim=noise_dim)\n",
    "d_model5 = DiscriminatorMLP(dim_hidden=128, dim_gen_out=dim_out)\n",
    "print(g_model5)\n",
    "print(d_model5)"
   ]
  },
  {
   "cell_type": "code",
   "execution_count": 56,
   "id": "807b3607",
   "metadata": {},
   "outputs": [],
   "source": [
    "data5, data6 = GAN3_data(data_path)"
   ]
  },
  {
   "cell_type": "code",
   "execution_count": 57,
   "id": "868bc603",
   "metadata": {},
   "outputs": [
    {
     "name": "stdout",
     "output_type": "stream",
     "text": [
      "Finished     4900 out of     5000 98.00 %\r"
     ]
    }
   ],
   "source": [
    "g_model5 = train_GAN(g_lr=g_lr, d_lr=d_lr, batch_size=batch_size, noise_dim=noise_dim,\\\n",
    "                          total_iterations=total_iterations, criterion=criterion, data=data5,\\\n",
    "                          g_model=g_model5, d_model=d_model5)"
   ]
  },
  {
   "cell_type": "code",
   "execution_count": 58,
   "id": "8e882cf9",
   "metadata": {},
   "outputs": [],
   "source": [
    "# Save the entire model as a SavedModel.\n",
    "torch.save(g_model5.state_dict(), 'saved_model/model5')"
   ]
  },
  {
   "cell_type": "code",
   "execution_count": 59,
   "id": "4e56db2c",
   "metadata": {},
   "outputs": [
    {
     "data": {
      "text/plain": [
       "GeneratorMLP(\n",
       "  (net): Sequential(\n",
       "    (0): Linear(in_features=100, out_features=128, bias=True)\n",
       "    (1): LeakyReLU(negative_slope=0.01, inplace=True)\n",
       "    (2): Linear(in_features=128, out_features=128, bias=True)\n",
       "    (3): LeakyReLU(negative_slope=0.01, inplace=True)\n",
       "    (4): Linear(in_features=128, out_features=128, bias=True)\n",
       "    (5): LeakyReLU(negative_slope=0.01, inplace=True)\n",
       "    (6): Linear(in_features=128, out_features=5, bias=True)\n",
       "  )\n",
       ")"
      ]
     },
     "execution_count": 59,
     "metadata": {},
     "output_type": "execute_result"
    }
   ],
   "source": [
    "gmodel_5 = GeneratorMLP(dim_hidden=128, dim_out=dim_out, noise_dim=noise_dim)\n",
    "gmodel_5.load_state_dict(torch.load('saved_model/model5'))\n",
    "gmodel_5.eval()"
   ]
  },
  {
   "cell_type": "markdown",
   "id": "603d9808",
   "metadata": {},
   "source": [
    "### GAN6"
   ]
  },
  {
   "cell_type": "code",
   "execution_count": 60,
   "id": "a971f5bf",
   "metadata": {},
   "outputs": [
    {
     "name": "stdout",
     "output_type": "stream",
     "text": [
      "GeneratorMLP(\n",
      "  (net): Sequential(\n",
      "    (0): Linear(in_features=100, out_features=128, bias=True)\n",
      "    (1): LeakyReLU(negative_slope=0.01, inplace=True)\n",
      "    (2): Linear(in_features=128, out_features=128, bias=True)\n",
      "    (3): LeakyReLU(negative_slope=0.01, inplace=True)\n",
      "    (4): Linear(in_features=128, out_features=128, bias=True)\n",
      "    (5): LeakyReLU(negative_slope=0.01, inplace=True)\n",
      "    (6): Linear(in_features=128, out_features=5, bias=True)\n",
      "  )\n",
      ")\n",
      "DiscriminatorMLP(\n",
      "  (net): Sequential(\n",
      "    (0): Linear(in_features=5, out_features=128, bias=True)\n",
      "    (1): LeakyReLU(negative_slope=0.01, inplace=True)\n",
      "    (2): Linear(in_features=128, out_features=128, bias=True)\n",
      "    (3): LeakyReLU(negative_slope=0.01, inplace=True)\n",
      "    (4): Linear(in_features=128, out_features=128, bias=True)\n",
      "    (5): LeakyReLU(negative_slope=0.01, inplace=True)\n",
      "    (6): Linear(in_features=128, out_features=1, bias=True)\n",
      "    (7): Sigmoid()\n",
      "  )\n",
      ")\n"
     ]
    }
   ],
   "source": [
    "dim_out=5\n",
    "g_model6 = GeneratorMLP(dim_hidden=128, dim_out=dim_out, noise_dim=noise_dim)\n",
    "d_model6 = DiscriminatorMLP(dim_hidden=128, dim_gen_out=dim_out)\n",
    "print(g_model6)\n",
    "print(d_model6)"
   ]
  },
  {
   "cell_type": "code",
   "execution_count": 61,
   "id": "fb6532c0",
   "metadata": {},
   "outputs": [
    {
     "name": "stdout",
     "output_type": "stream",
     "text": [
      "Finished     4900 out of     5000 98.00 %\r"
     ]
    }
   ],
   "source": [
    "g_model6 = train_GAN(g_lr=g_lr, d_lr=d_lr, batch_size=batch_size, noise_dim=noise_dim,\\\n",
    "                          total_iterations=total_iterations, criterion=criterion, data=data6,\\\n",
    "                          g_model=g_model6, d_model=d_model6)"
   ]
  },
  {
   "cell_type": "code",
   "execution_count": 62,
   "id": "032cc56c",
   "metadata": {},
   "outputs": [],
   "source": [
    "# Save the entire model as a SavedModel.\n",
    "torch.save(g_model6.state_dict(), 'saved_model/model6')"
   ]
  },
  {
   "cell_type": "code",
   "execution_count": 63,
   "id": "2ba89aa3",
   "metadata": {},
   "outputs": [
    {
     "data": {
      "text/plain": [
       "GeneratorMLP(\n",
       "  (net): Sequential(\n",
       "    (0): Linear(in_features=100, out_features=128, bias=True)\n",
       "    (1): LeakyReLU(negative_slope=0.01, inplace=True)\n",
       "    (2): Linear(in_features=128, out_features=128, bias=True)\n",
       "    (3): LeakyReLU(negative_slope=0.01, inplace=True)\n",
       "    (4): Linear(in_features=128, out_features=128, bias=True)\n",
       "    (5): LeakyReLU(negative_slope=0.01, inplace=True)\n",
       "    (6): Linear(in_features=128, out_features=5, bias=True)\n",
       "  )\n",
       ")"
      ]
     },
     "execution_count": 63,
     "metadata": {},
     "output_type": "execute_result"
    }
   ],
   "source": [
    "gmodel_6 = GeneratorMLP(dim_hidden=128, dim_out=dim_out, noise_dim=noise_dim)\n",
    "gmodel_6.load_state_dict(torch.load('saved_model/model6'))\n",
    "gmodel_6.eval()"
   ]
  },
  {
   "cell_type": "code",
   "execution_count": 34,
   "id": "2b1214e9",
   "metadata": {},
   "outputs": [],
   "source": [
    "modelll = get_model(KinE=10.0,name_s=2)"
   ]
  },
  {
   "cell_type": "code",
   "execution_count": 35,
   "id": "7aa5e58b",
   "metadata": {},
   "outputs": [
    {
     "name": "stdout",
     "output_type": "stream",
     "text": [
      "0.0037848296761512756\n"
     ]
    }
   ],
   "source": [
    "count=0\n",
    "for i in range(10000):\n",
    "    u = Get_GAN_event(g_model=modelll)[0]\n",
    "    u = u[1]\n",
    "    if(u < 0):\n",
    "        count+=1\n",
    "print(100*u/10000)"
   ]
  },
  {
   "cell_type": "code",
   "execution_count": 27,
   "id": "658ed872",
   "metadata": {},
   "outputs": [],
   "source": [
    "data_path=data_file(20.0)"
   ]
  },
  {
   "cell_type": "code",
   "execution_count": 3,
   "id": "43840517",
   "metadata": {},
   "outputs": [
    {
     "data": {
      "text/plain": [
       "'../Data/E_20.0.data'"
      ]
     },
     "execution_count": 3,
     "metadata": {},
     "output_type": "execute_result"
    }
   ],
   "source": [
    "data_path"
   ]
  },
  {
   "cell_type": "code",
   "execution_count": 4,
   "id": "75dd696c",
   "metadata": {},
   "outputs": [],
   "source": [
    "data5, data6 = GAN3_data(data_path)"
   ]
  },
  {
   "cell_type": "code",
   "execution_count": 5,
   "id": "62976bf9",
   "metadata": {},
   "outputs": [
    {
     "data": {
      "text/html": [
       "<div>\n",
       "<style scoped>\n",
       "    .dataframe tbody tr th:only-of-type {\n",
       "        vertical-align: middle;\n",
       "    }\n",
       "\n",
       "    .dataframe tbody tr th {\n",
       "        vertical-align: top;\n",
       "    }\n",
       "\n",
       "    .dataframe thead th {\n",
       "        text-align: right;\n",
       "    }\n",
       "</style>\n",
       "<table border=\"1\" class=\"dataframe\">\n",
       "  <thead>\n",
       "    <tr style=\"text-align: right;\">\n",
       "      <th></th>\n",
       "      <th>cos_theta</th>\n",
       "      <th>dE(MeV)</th>\n",
       "      <th>cos_phi</th>\n",
       "      <th>cos_psi</th>\n",
       "      <th>KinE(MeV)</th>\n",
       "    </tr>\n",
       "  </thead>\n",
       "  <tbody>\n",
       "    <tr>\n",
       "      <th>108</th>\n",
       "      <td>0.863763</td>\n",
       "      <td>0.03820</td>\n",
       "      <td>-0.133938</td>\n",
       "      <td>0.167584</td>\n",
       "      <td>0.0951</td>\n",
       "    </tr>\n",
       "    <tr>\n",
       "      <th>325</th>\n",
       "      <td>0.091317</td>\n",
       "      <td>0.00547</td>\n",
       "      <td>-0.497036</td>\n",
       "      <td>-0.200547</td>\n",
       "      <td>0.8030</td>\n",
       "    </tr>\n",
       "    <tr>\n",
       "      <th>715</th>\n",
       "      <td>0.046986</td>\n",
       "      <td>0.18100</td>\n",
       "      <td>0.770568</td>\n",
       "      <td>0.472407</td>\n",
       "      <td>0.6320</td>\n",
       "    </tr>\n",
       "    <tr>\n",
       "      <th>1015</th>\n",
       "      <td>0.886986</td>\n",
       "      <td>0.11000</td>\n",
       "      <td>0.988164</td>\n",
       "      <td>0.899814</td>\n",
       "      <td>0.8180</td>\n",
       "    </tr>\n",
       "    <tr>\n",
       "      <th>1862</th>\n",
       "      <td>-0.084150</td>\n",
       "      <td>0.03470</td>\n",
       "      <td>0.970029</td>\n",
       "      <td>0.118475</td>\n",
       "      <td>0.1500</td>\n",
       "    </tr>\n",
       "    <tr>\n",
       "      <th>1964</th>\n",
       "      <td>0.664699</td>\n",
       "      <td>0.05730</td>\n",
       "      <td>0.701493</td>\n",
       "      <td>0.159464</td>\n",
       "      <td>0.3210</td>\n",
       "    </tr>\n",
       "    <tr>\n",
       "      <th>3195</th>\n",
       "      <td>0.794897</td>\n",
       "      <td>0.04280</td>\n",
       "      <td>0.597873</td>\n",
       "      <td>0.746153</td>\n",
       "      <td>0.6770</td>\n",
       "    </tr>\n",
       "    <tr>\n",
       "      <th>3337</th>\n",
       "      <td>0.007466</td>\n",
       "      <td>0.20800</td>\n",
       "      <td>0.634768</td>\n",
       "      <td>-0.184988</td>\n",
       "      <td>0.8990</td>\n",
       "    </tr>\n",
       "    <tr>\n",
       "      <th>3771</th>\n",
       "      <td>-0.059016</td>\n",
       "      <td>0.03640</td>\n",
       "      <td>-0.227098</td>\n",
       "      <td>0.764253</td>\n",
       "      <td>0.0952</td>\n",
       "    </tr>\n",
       "    <tr>\n",
       "      <th>4271</th>\n",
       "      <td>-0.532656</td>\n",
       "      <td>0.12300</td>\n",
       "      <td>-0.293814</td>\n",
       "      <td>-0.552114</td>\n",
       "      <td>0.6150</td>\n",
       "    </tr>\n",
       "  </tbody>\n",
       "</table>\n",
       "</div>"
      ],
      "text/plain": [
       "      cos_theta  dE(MeV)   cos_phi   cos_psi  KinE(MeV)\n",
       "108    0.863763  0.03820 -0.133938  0.167584     0.0951\n",
       "325    0.091317  0.00547 -0.497036 -0.200547     0.8030\n",
       "715    0.046986  0.18100  0.770568  0.472407     0.6320\n",
       "1015   0.886986  0.11000  0.988164  0.899814     0.8180\n",
       "1862  -0.084150  0.03470  0.970029  0.118475     0.1500\n",
       "1964   0.664699  0.05730  0.701493  0.159464     0.3210\n",
       "3195   0.794897  0.04280  0.597873  0.746153     0.6770\n",
       "3337   0.007466  0.20800  0.634768 -0.184988     0.8990\n",
       "3771  -0.059016  0.03640 -0.227098  0.764253     0.0952\n",
       "4271  -0.532656  0.12300 -0.293814 -0.552114     0.6150"
      ]
     },
     "execution_count": 5,
     "metadata": {},
     "output_type": "execute_result"
    }
   ],
   "source": [
    "data5[:10]"
   ]
  },
  {
   "cell_type": "code",
   "execution_count": 6,
   "id": "13e40cd2",
   "metadata": {},
   "outputs": [],
   "source": [
    "df5 = data5.to_numpy()"
   ]
  },
  {
   "cell_type": "code",
   "execution_count": 7,
   "id": "ef6e4107",
   "metadata": {},
   "outputs": [
    {
     "data": {
      "text/plain": [
       "array([[ 0.86376311,  0.0382    , -0.1339375 ,  0.16758408,  0.0951    ],\n",
       "       [ 0.0913168 ,  0.00547   , -0.497036  , -0.2005468 ,  0.803     ],\n",
       "       [ 0.0469857 ,  0.181     ,  0.770568  ,  0.472407  ,  0.632     ],\n",
       "       [ 0.8869863 ,  0.11      ,  0.9881637 ,  0.89981367,  0.818     ],\n",
       "       [-0.08415043,  0.0347    ,  0.9700292 ,  0.11847491,  0.15      ],\n",
       "       [ 0.6646995 ,  0.0573    ,  0.701493  ,  0.15946442,  0.321     ],\n",
       "       [ 0.7948971 ,  0.0428    ,  0.597873  ,  0.7461529 ,  0.677     ],\n",
       "       [ 0.007466  ,  0.208     ,  0.6347684 , -0.1849882 ,  0.899     ],\n",
       "       [-0.0590156 ,  0.0364    , -0.2270975 ,  0.7642534 ,  0.0952    ],\n",
       "       [-0.532656  ,  0.123     , -0.293814  , -0.5521144 ,  0.615     ]])"
      ]
     },
     "execution_count": 7,
     "metadata": {},
     "output_type": "execute_result"
    }
   ],
   "source": [
    "df5[:10]"
   ]
  },
  {
   "cell_type": "code",
   "execution_count": null,
   "id": "45ad6988",
   "metadata": {},
   "outputs": [],
   "source": []
  }
 ],
 "metadata": {
  "kernelspec": {
   "display_name": "Python 3 (ipykernel)",
   "language": "python",
   "name": "python3"
  },
  "language_info": {
   "codemirror_mode": {
    "name": "ipython",
    "version": 3
   },
   "file_extension": ".py",
   "mimetype": "text/x-python",
   "name": "python",
   "nbconvert_exporter": "python",
   "pygments_lexer": "ipython3",
   "version": "3.9.15"
  }
 },
 "nbformat": 4,
 "nbformat_minor": 5
}
